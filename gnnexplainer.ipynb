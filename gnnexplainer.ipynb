{
 "cells": [
  {
   "cell_type": "code",
   "execution_count": 1,
   "id": "e22d4252",
   "metadata": {},
   "outputs": [],
   "source": [
    "from torch_geometric.loader import DataLoader\n",
    "import torch\n",
    "# from torch_geometric.nn import GNNExplainer\n",
    "from torch_geometric.explain import Explainer, GNNExplainer\n",
    "import numpy as np\n",
    "import pandas as pd\n",
    "import matplotlib.pyplot as plt\n",
    "import networkx as nx"
   ]
  },
  {
   "cell_type": "code",
   "execution_count": 18,
   "id": "4dd4924b",
   "metadata": {},
   "outputs": [
    {
     "data": {
      "text/plain": [
       "'2.3.1'"
      ]
     },
     "execution_count": 18,
     "metadata": {},
     "output_type": "execute_result"
    }
   ],
   "source": [
    "import torch_geometric as pyg\n",
    "pyg.__version__"
   ]
  },
  {
   "cell_type": "code",
   "execution_count": 2,
   "id": "d1fa4584",
   "metadata": {},
   "outputs": [
    {
     "data": {
      "text/plain": [
       "'1.13.1+cu117'"
      ]
     },
     "execution_count": 2,
     "metadata": {},
     "output_type": "execute_result"
    }
   ],
   "source": [
    "torch.__version__"
   ]
  },
  {
   "cell_type": "code",
   "execution_count": 3,
   "id": "91b3b84b",
   "metadata": {},
   "outputs": [
    {
     "data": {
      "text/plain": [
       "device(type='cuda', index=2)"
      ]
     },
     "execution_count": 3,
     "metadata": {},
     "output_type": "execute_result"
    }
   ],
   "source": [
    "device = torch.device(2)\n",
    "# device = torch.device(\"cpu\")\n",
    "device"
   ]
  },
  {
   "cell_type": "code",
   "execution_count": 4,
   "id": "6fba812f",
   "metadata": {},
   "outputs": [],
   "source": [
    "from utils_data import TestbedDataset\n",
    "from models import GATNet_E, GATNet, GCNNet, GATv2Net, RGCNNet"
   ]
  },
  {
   "cell_type": "code",
   "execution_count": 5,
   "id": "9f705736",
   "metadata": {
    "scrolled": true
   },
   "outputs": [
    {
     "data": {
      "text/plain": [
       "GATNet_E(\n",
       "  (gcn1): GATConv(334, 334, heads=10)\n",
       "  (gcn2): GATConv(3340, 128, heads=1)\n",
       "  (fc_g1): Linear(in_features=128, out_features=128, bias=True)\n",
       "  (conv_xt_1): Conv1d(1, 32, kernel_size=(8,), stride=(1,))\n",
       "  (pool_xt_1): MaxPool1d(kernel_size=3, stride=3, padding=0, dilation=1, ceil_mode=False)\n",
       "  (conv_xt_2): Conv1d(32, 64, kernel_size=(8,), stride=(1,))\n",
       "  (pool_xt_2): MaxPool1d(kernel_size=3, stride=3, padding=0, dilation=1, ceil_mode=False)\n",
       "  (conv_xt_3): Conv1d(64, 128, kernel_size=(8,), stride=(1,))\n",
       "  (pool_xt_3): MaxPool1d(kernel_size=3, stride=3, padding=0, dilation=1, ceil_mode=False)\n",
       "  (fc1_xt): Linear(in_features=4096, out_features=128, bias=True)\n",
       "  (cross_attn1): MultiheadAttention(\n",
       "    (out_proj): NonDynamicallyQuantizableLinear(in_features=128, out_features=128, bias=True)\n",
       "  )\n",
       "  (cross_attn2): MultiheadAttention(\n",
       "    (out_proj): NonDynamicallyQuantizableLinear(in_features=128, out_features=128, bias=True)\n",
       "  )\n",
       "  (norm1): LayerNorm((128,), eps=1e-05, elementwise_affine=True)\n",
       "  (norm2): LayerNorm((128,), eps=1e-05, elementwise_affine=True)\n",
       "  (fc): Linear(in_features=256, out_features=128, bias=True)\n",
       "  (out): Linear(in_features=128, out_features=1, bias=True)\n",
       "  (relu): ReLU()\n",
       "  (dropout): Dropout(p=0.5, inplace=False)\n",
       ")"
      ]
     },
     "execution_count": 5,
     "metadata": {},
     "output_type": "execute_result"
    }
   ],
   "source": [
    "# model = RGCNNet()\n",
    "# model_path = 'root_folder/root_026/models/model_RGCN-EP300-SW801010_GDSC.model'\n",
    "\n",
    "model = GATNet_E(use_attn=True)\n",
    "model_path = 'root_folder/root_117/models/model_GAT_Edge-EP300-SW801010_GDSC_best1.model'\n",
    "model.load_state_dict(torch.load(model_path, map_location=device))\n",
    "model.to(device)"
   ]
  },
  {
   "cell_type": "code",
   "execution_count": 6,
   "id": "06839c88",
   "metadata": {},
   "outputs": [
    {
     "name": "stdout",
     "output_type": "stream",
     "text": [
      "Pre-processed data found: root_folder/root_117/processed/GDSC_test_mix.pt, loading ...\n"
     ]
    }
   ],
   "source": [
    "branch_folder = \"root_folder/root_117\"\n",
    "# branch_folder = \"root_folder/root_020\"\n",
    "\n",
    "dataset = 'GDSC'\n",
    "test_data = TestbedDataset(root=branch_folder, dataset=dataset+'_test_mix')"
   ]
  },
  {
   "cell_type": "code",
   "execution_count": 7,
   "id": "b8f16f4c",
   "metadata": {},
   "outputs": [],
   "source": [
    "test_batch = 1\n",
    "test_loader = DataLoader(test_data, batch_size=test_batch, shuffle=False)"
   ]
  },
  {
   "cell_type": "code",
   "execution_count": 8,
   "id": "e44637f2",
   "metadata": {},
   "outputs": [
    {
     "name": "stdout",
     "output_type": "stream",
     "text": [
      "DataBatch(x=[29, 334], edge_index=[2, 66], y=[1], edge_features=[66, 4], smiles=[1], drug_name=[1], cell_line_name=[1], target=[1, 1, 956], c_size=[1], batch=[29], ptr=[2])\n",
      "DataBatch(x=[39, 334], edge_index=[2, 86], y=[1], edge_features=[86, 4], smiles=[1], drug_name=[1], cell_line_name=[1], target=[1, 1, 956], c_size=[1], batch=[39], ptr=[2])\n",
      "DataBatch(x=[25, 334], edge_index=[2, 56], y=[1], edge_features=[56, 4], smiles=[1], drug_name=[1], cell_line_name=[1], target=[1, 1, 956], c_size=[1], batch=[25], ptr=[2])\n",
      "DataBatch(x=[35, 334], edge_index=[2, 76], y=[1], edge_features=[76, 4], smiles=[1], drug_name=[1], cell_line_name=[1], target=[1, 1, 956], c_size=[1], batch=[35], ptr=[2])\n",
      "DataBatch(x=[43, 334], edge_index=[2, 92], y=[1], edge_features=[92, 4], smiles=[1], drug_name=[1], cell_line_name=[1], target=[1, 1, 956], c_size=[1], batch=[43], ptr=[2])\n"
     ]
    }
   ],
   "source": [
    "i = 0\n",
    "for data in test_loader:\n",
    "    i += 1\n",
    "    print(data)\n",
    "    if i >= 5:\n",
    "        break"
   ]
  },
  {
   "cell_type": "code",
   "execution_count": 9,
   "id": "39fa6002",
   "metadata": {},
   "outputs": [
    {
     "name": "stdout",
     "output_type": "stream",
     "text": [
      "DataBatch(x=[29, 334], edge_index=[2, 66], y=[1], edge_features=[66, 4], smiles=[1], drug_name=[1], cell_line_name=[1], target=[1, 1, 956], c_size=[1], batch=[29], ptr=[2])\n"
     ]
    }
   ],
   "source": [
    "# test one drug\n",
    "one = next(iter(test_loader))\n",
    "data = one.to(device)\n",
    "print(data)"
   ]
  },
  {
   "cell_type": "code",
   "execution_count": 10,
   "id": "37f8f4a3",
   "metadata": {
    "scrolled": true
   },
   "outputs": [
    {
     "data": {
      "text/plain": [
       "tensor([[ 0,  1,  1,  2,  2,  2,  3,  3,  3,  4,  4,  5,  5,  5,  6,  6,  7,  7,\n",
       "          8,  8,  8,  9,  9, 10, 10, 10, 11, 11, 11, 12, 12, 13, 13, 13, 14, 14,\n",
       "         14, 15, 15, 16, 16, 16, 17, 17, 17, 18, 18, 18, 19, 20, 20, 21, 21, 22,\n",
       "         22, 22, 23, 24, 24, 24, 24, 25, 25, 26, 27, 28],\n",
       "        [ 1,  0,  2,  1,  3, 11,  2,  4,  8,  3,  5,  4,  6, 28,  5,  7,  6,  8,\n",
       "          7,  9,  3,  8, 10,  9, 11, 14, 10, 12,  2, 11, 13, 12, 14, 18, 13, 15,\n",
       "         10, 14, 16, 15, 17, 24, 16, 18, 20, 17, 19, 13, 18, 17, 21, 20, 22, 21,\n",
       "         23, 24, 22, 22, 25, 27, 16, 24, 26, 25, 24,  5]], device='cuda:2')"
      ]
     },
     "execution_count": 10,
     "metadata": {},
     "output_type": "execute_result"
    }
   ],
   "source": [
    "data.edge_index"
   ]
  },
  {
   "cell_type": "code",
   "execution_count": 11,
   "id": "3c3654d1",
   "metadata": {},
   "outputs": [
    {
     "name": "stdout",
     "output_type": "stream",
     "text": [
      "tensor([[0.4253]], device='cuda:2') torch.Size([1, 1])\n"
     ]
    }
   ],
   "source": [
    "x = data.x\n",
    "edge_index = data.edge_index\n",
    "y = data.y\n",
    "y = y.view(test_batch, y.size(0))\n",
    "print(y, y.size())\n",
    "batch_drug = data.batch\n",
    "edge_features = data.edge_features\n",
    "x_cell_mut = data.target"
   ]
  },
  {
   "cell_type": "code",
   "execution_count": 12,
   "id": "dc4b329a",
   "metadata": {},
   "outputs": [],
   "source": [
    "def explain_with_type(node_type='object', edge_type='object'):\n",
    "    explainer = Explainer(\n",
    "        model=model,\n",
    "        algorithm=GNNExplainer(epochs=300),\n",
    "        explanation_type='phenomenon',    # 'phenomenon'\n",
    "        node_mask_type=node_type,\n",
    "        edge_mask_type=edge_type,\n",
    "        model_config=dict(\n",
    "            mode='regression',\n",
    "            task_level='graph',\n",
    "            return_type='raw',\n",
    "        ),\n",
    "    )\n",
    "    explanation = explainer(x = x, edge_index = edge_index, target = y, batch = batch_drug, x_cell_mut = x_cell_mut, edge_feat = edge_features)\n",
    "    return explanation"
   ]
  },
  {
   "cell_type": "code",
   "execution_count": 13,
   "id": "ee50a86b",
   "metadata": {},
   "outputs": [
    {
     "data": {
      "text/plain": [
       "Explanation(node_mask=[29, 1], edge_mask=[66], target=[1, 1], x=[29, 334], edge_index=[2, 66], batch=[29], x_cell_mut=[1, 1, 956], edge_feat=[66, 4])"
      ]
     },
     "execution_count": 13,
     "metadata": {},
     "output_type": "execute_result"
    }
   ],
   "source": [
    "explanation = explain_with_type('object', 'object')\n",
    "explanation"
   ]
  },
  {
   "cell_type": "code",
   "execution_count": 20,
   "id": "0b4a302b",
   "metadata": {
    "scrolled": true
   },
   "outputs": [
    {
     "data": {
      "text/plain": [
       "tensor([[0.0851, 0.0788, 0.0871, 0.1096, 0.0894, 0.0838, 0.1180, 0.0793, 0.0888,\n",
       "         0.0810, 0.0943, 0.0844, 0.0765, 0.0824, 0.0755, 0.0740, 0.0785, 0.0844,\n",
       "         0.0820, 0.0873, 0.1156, 0.0811, 0.1057, 0.1337, 0.0839, 0.0663, 0.0840,\n",
       "         0.0845, 0.0829, 0.1213, 0.0915, 0.0868, 0.1121, 0.0798, 0.0774, 0.0828,\n",
       "         0.0874, 0.0824, 0.0886, 0.0758, 0.0747, 0.0728, 0.0747, 0.0964, 0.0898,\n",
       "         0.1032, 0.0891, 0.0832, 0.0959, 0.0831, 0.0725, 0.0823, 0.1034, 0.0926,\n",
       "         0.0892, 0.0939, 0.1344, 0.0901, 0.0801, 0.0913, 0.0761, 0.0868, 0.0806,\n",
       "         0.0000, 0.0879, 0.0831, 0.0950, 0.0739, 0.1008, 0.1104, 0.0803, 0.0716,\n",
       "         0.0828, 0.0798, 0.0801, 0.2029, 0.1026, 0.1667, 0.0871, 0.0821, 0.0887,\n",
       "         0.1279, 0.0819, 0.1370, 0.0750, 0.0864, 0.0692, 0.0800, 0.0902, 0.0915,\n",
       "         0.0698, 0.0923, 0.1777, 0.0847, 0.0672, 0.0682, 0.0830, 0.0897, 0.0839,\n",
       "         0.0905, 0.0797, 0.1501, 0.2543, 0.0811, 0.0778, 0.1127, 0.0930, 0.1004,\n",
       "         0.0825, 0.0708, 0.0820, 0.0828, 0.1256, 0.0884, 0.0920, 0.0764, 0.0813,\n",
       "         0.0796, 0.0811, 0.0794, 0.0669, 0.0775, 0.0813, 0.0854, 0.0865, 0.1196,\n",
       "         0.0712, 0.0000, 0.0809, 0.0835, 0.0726, 0.0938, 0.0626, 0.0858, 0.0674,\n",
       "         0.1921, 0.0859, 0.1194, 0.0649, 0.0823, 0.0635, 0.0792, 0.0776, 0.0807,\n",
       "         0.1063, 0.0814, 0.0783, 0.1025, 0.0917, 0.0790, 0.0900, 0.0556, 0.0820,\n",
       "         0.0849, 0.0732, 0.0708, 0.0904, 0.0833, 0.0980, 0.1426, 0.0675, 0.0913,\n",
       "         0.0775, 0.1174, 0.0791, 0.0761, 0.1190, 0.0873, 0.0762, 0.1251, 0.0785,\n",
       "         0.0873, 0.0928, 0.0842, 0.0766, 0.0751, 0.0829, 0.0820, 0.0841, 0.0811,\n",
       "         0.0616, 0.0798, 0.0759, 0.0858, 0.0977, 0.1154, 0.0835, 0.0587, 0.0926,\n",
       "         0.0831, 0.1181, 0.0000, 0.0870, 0.0596, 0.1442, 0.0830, 0.2980, 0.0889,\n",
       "         0.4296, 0.1227, 0.0816, 0.0779, 0.0832, 0.0759, 0.0774, 0.0733, 0.0851,\n",
       "         0.0743, 0.0721, 0.0776, 0.0734, 0.0755, 0.2380, 0.0953, 0.0932, 0.0667,\n",
       "         0.0915, 0.0745, 0.0913, 0.0824, 0.0556, 0.0866, 0.0855, 0.0860, 0.0866,\n",
       "         0.0964, 0.1080, 0.1045, 0.1036, 0.0592, 0.0798, 0.0790, 0.0923, 0.2758,\n",
       "         0.0707, 0.0866, 0.0798, 0.5643, 0.0799, 0.0750, 0.0739, 0.1670, 0.0841,\n",
       "         0.2111, 0.0714, 0.0757, 0.1477, 0.0761, 0.0672, 0.0696, 0.0882, 0.0680,\n",
       "         0.0834, 0.0855, 0.0682, 0.0000, 0.0893, 0.0000, 0.0969, 0.0000, 0.0000,\n",
       "         0.0000, 0.0000, 0.0000, 0.0000, 0.0000, 0.0000, 0.0000, 0.0000, 0.0000,\n",
       "         0.0000, 0.0000, 0.0000, 0.0000, 0.0000, 0.0000, 0.0000, 0.0000, 0.0000,\n",
       "         0.0000, 0.0000, 0.0000, 0.0000, 0.0000, 0.0000, 0.0000, 0.0000, 0.0000,\n",
       "         0.0000, 0.0000, 0.0000, 0.0000, 0.0000, 0.0000, 0.0000, 0.0000, 0.0000,\n",
       "         0.0000, 0.0000, 0.0000, 0.0000, 0.0818, 0.0817, 0.1470, 0.0866, 0.0000,\n",
       "         0.0000, 0.0000, 0.0000, 0.0000, 0.0000, 0.0941, 0.0761, 0.0898, 0.0762,\n",
       "         0.0000, 0.0000, 0.0000, 0.0000, 0.0000, 0.0000, 0.0000, 0.0955, 0.0763,\n",
       "         0.0822, 0.0816, 0.0000, 0.0000, 0.0000, 0.0000, 0.0000, 0.0000, 0.0000,\n",
       "         0.0798]], device='cuda:2')"
      ]
     },
     "execution_count": 20,
     "metadata": {},
     "output_type": "execute_result"
    }
   ],
   "source": [
    "explanation = explain_with_type('common_attributes', 'object')\n",
    "explanation.node_mask"
   ]
  },
  {
   "cell_type": "code",
   "execution_count": 15,
   "id": "ee234101",
   "metadata": {},
   "outputs": [
    {
     "data": {
      "text/plain": [
       "Explanation(node_mask=[29, 334], edge_mask=[66], target=[1, 1], x=[29, 334], edge_index=[2, 66], batch=[29], x_cell_mut=[1, 1, 956], edge_feat=[66, 4])"
      ]
     },
     "execution_count": 15,
     "metadata": {},
     "output_type": "execute_result"
    }
   ],
   "source": [
    "explanation = explain_with_type('attributes', 'object')\n",
    "explanation"
   ]
  },
  {
   "cell_type": "code",
   "execution_count": 19,
   "id": "2ca19b91",
   "metadata": {
    "scrolled": true
   },
   "outputs": [
    {
     "ename": "ValueError",
     "evalue": "'edge_mask_type' needs be None or of type 'object' (got 'common_attributes')",
     "output_type": "error",
     "traceback": [
      "\u001b[0;31m---------------------------------------------------------------------------\u001b[0m",
      "\u001b[0;31mValueError\u001b[0m                                Traceback (most recent call last)",
      "Input \u001b[0;32mIn [19]\u001b[0m, in \u001b[0;36m<cell line: 2>\u001b[0;34m()\u001b[0m\n\u001b[1;32m      1\u001b[0m \u001b[38;5;66;03m# edge can only be object??\u001b[39;00m\n\u001b[0;32m----> 2\u001b[0m explanation \u001b[38;5;241m=\u001b[39m \u001b[43mexplain_with_type\u001b[49m\u001b[43m(\u001b[49m\u001b[38;5;124;43m'\u001b[39;49m\u001b[38;5;124;43mattributes\u001b[39;49m\u001b[38;5;124;43m'\u001b[39;49m\u001b[43m,\u001b[49m\u001b[43m \u001b[49m\u001b[38;5;124;43m'\u001b[39;49m\u001b[38;5;124;43mcommon_attributes\u001b[39;49m\u001b[38;5;124;43m'\u001b[39;49m\u001b[43m)\u001b[49m\n\u001b[1;32m      3\u001b[0m explanation\n",
      "Input \u001b[0;32mIn [12]\u001b[0m, in \u001b[0;36mexplain_with_type\u001b[0;34m(node_type, edge_type)\u001b[0m\n\u001b[1;32m      1\u001b[0m \u001b[38;5;28;01mdef\u001b[39;00m \u001b[38;5;21mexplain_with_type\u001b[39m(node_type\u001b[38;5;241m=\u001b[39m\u001b[38;5;124m'\u001b[39m\u001b[38;5;124mobject\u001b[39m\u001b[38;5;124m'\u001b[39m, edge_type\u001b[38;5;241m=\u001b[39m\u001b[38;5;124m'\u001b[39m\u001b[38;5;124mobject\u001b[39m\u001b[38;5;124m'\u001b[39m):\n\u001b[0;32m----> 2\u001b[0m     explainer \u001b[38;5;241m=\u001b[39m \u001b[43mExplainer\u001b[49m\u001b[43m(\u001b[49m\n\u001b[1;32m      3\u001b[0m \u001b[43m        \u001b[49m\u001b[43mmodel\u001b[49m\u001b[38;5;241;43m=\u001b[39;49m\u001b[43mmodel\u001b[49m\u001b[43m,\u001b[49m\n\u001b[1;32m      4\u001b[0m \u001b[43m        \u001b[49m\u001b[43malgorithm\u001b[49m\u001b[38;5;241;43m=\u001b[39;49m\u001b[43mGNNExplainer\u001b[49m\u001b[43m(\u001b[49m\u001b[43mepochs\u001b[49m\u001b[38;5;241;43m=\u001b[39;49m\u001b[38;5;241;43m300\u001b[39;49m\u001b[43m)\u001b[49m\u001b[43m,\u001b[49m\n\u001b[1;32m      5\u001b[0m \u001b[43m        \u001b[49m\u001b[43mexplanation_type\u001b[49m\u001b[38;5;241;43m=\u001b[39;49m\u001b[38;5;124;43m'\u001b[39;49m\u001b[38;5;124;43mphenomenon\u001b[39;49m\u001b[38;5;124;43m'\u001b[39;49m\u001b[43m,\u001b[49m\u001b[43m    \u001b[49m\u001b[38;5;66;43;03m# 'phenomenon'\u001b[39;49;00m\n\u001b[1;32m      6\u001b[0m \u001b[43m        \u001b[49m\u001b[43mnode_mask_type\u001b[49m\u001b[38;5;241;43m=\u001b[39;49m\u001b[43mnode_type\u001b[49m\u001b[43m,\u001b[49m\n\u001b[1;32m      7\u001b[0m \u001b[43m        \u001b[49m\u001b[43medge_mask_type\u001b[49m\u001b[38;5;241;43m=\u001b[39;49m\u001b[43medge_type\u001b[49m\u001b[43m,\u001b[49m\n\u001b[1;32m      8\u001b[0m \u001b[43m        \u001b[49m\u001b[43mmodel_config\u001b[49m\u001b[38;5;241;43m=\u001b[39;49m\u001b[38;5;28;43mdict\u001b[39;49m\u001b[43m(\u001b[49m\n\u001b[1;32m      9\u001b[0m \u001b[43m            \u001b[49m\u001b[43mmode\u001b[49m\u001b[38;5;241;43m=\u001b[39;49m\u001b[38;5;124;43m'\u001b[39;49m\u001b[38;5;124;43mregression\u001b[39;49m\u001b[38;5;124;43m'\u001b[39;49m\u001b[43m,\u001b[49m\n\u001b[1;32m     10\u001b[0m \u001b[43m            \u001b[49m\u001b[43mtask_level\u001b[49m\u001b[38;5;241;43m=\u001b[39;49m\u001b[38;5;124;43m'\u001b[39;49m\u001b[38;5;124;43mgraph\u001b[39;49m\u001b[38;5;124;43m'\u001b[39;49m\u001b[43m,\u001b[49m\n\u001b[1;32m     11\u001b[0m \u001b[43m            \u001b[49m\u001b[43mreturn_type\u001b[49m\u001b[38;5;241;43m=\u001b[39;49m\u001b[38;5;124;43m'\u001b[39;49m\u001b[38;5;124;43mraw\u001b[39;49m\u001b[38;5;124;43m'\u001b[39;49m\u001b[43m,\u001b[49m\n\u001b[1;32m     12\u001b[0m \u001b[43m        \u001b[49m\u001b[43m)\u001b[49m\u001b[43m,\u001b[49m\n\u001b[1;32m     13\u001b[0m \u001b[43m    \u001b[49m\u001b[43m)\u001b[49m\n\u001b[1;32m     14\u001b[0m     explanation \u001b[38;5;241m=\u001b[39m explainer(x \u001b[38;5;241m=\u001b[39m x, edge_index \u001b[38;5;241m=\u001b[39m edge_index, target \u001b[38;5;241m=\u001b[39m y, batch \u001b[38;5;241m=\u001b[39m batch_drug, x_cell_mut \u001b[38;5;241m=\u001b[39m x_cell_mut, edge_feat \u001b[38;5;241m=\u001b[39m edge_features)\n\u001b[1;32m     15\u001b[0m     \u001b[38;5;28;01mreturn\u001b[39;00m explanation\n",
      "File \u001b[0;32m/data/conghao001/anaconda3/envs/gnndrug/lib/python3.8/site-packages/torch_geometric/explain/explainer.py:79\u001b[0m, in \u001b[0;36mExplainer.__init__\u001b[0;34m(self, model, algorithm, explanation_type, model_config, node_mask_type, edge_mask_type, threshold_config)\u001b[0m\n\u001b[1;32m     69\u001b[0m \u001b[38;5;28;01mdef\u001b[39;00m \u001b[38;5;21m__init__\u001b[39m(\n\u001b[1;32m     70\u001b[0m     \u001b[38;5;28mself\u001b[39m,\n\u001b[1;32m     71\u001b[0m     model: torch\u001b[38;5;241m.\u001b[39mnn\u001b[38;5;241m.\u001b[39mModule,\n\u001b[0;32m   (...)\u001b[0m\n\u001b[1;32m     77\u001b[0m     threshold_config: Optional[ThresholdConfig] \u001b[38;5;241m=\u001b[39m \u001b[38;5;28;01mNone\u001b[39;00m,\n\u001b[1;32m     78\u001b[0m ):\n\u001b[0;32m---> 79\u001b[0m     explainer_config \u001b[38;5;241m=\u001b[39m \u001b[43mExplainerConfig\u001b[49m\u001b[43m(\u001b[49m\n\u001b[1;32m     80\u001b[0m \u001b[43m        \u001b[49m\u001b[43mexplanation_type\u001b[49m\u001b[38;5;241;43m=\u001b[39;49m\u001b[43mexplanation_type\u001b[49m\u001b[43m,\u001b[49m\n\u001b[1;32m     81\u001b[0m \u001b[43m        \u001b[49m\u001b[43mnode_mask_type\u001b[49m\u001b[38;5;241;43m=\u001b[39;49m\u001b[43mnode_mask_type\u001b[49m\u001b[43m,\u001b[49m\n\u001b[1;32m     82\u001b[0m \u001b[43m        \u001b[49m\u001b[43medge_mask_type\u001b[49m\u001b[38;5;241;43m=\u001b[39;49m\u001b[43medge_mask_type\u001b[49m\u001b[43m,\u001b[49m\n\u001b[1;32m     83\u001b[0m \u001b[43m    \u001b[49m\u001b[43m)\u001b[49m\n\u001b[1;32m     85\u001b[0m     \u001b[38;5;28mself\u001b[39m\u001b[38;5;241m.\u001b[39mmodel \u001b[38;5;241m=\u001b[39m model\n\u001b[1;32m     86\u001b[0m     \u001b[38;5;28mself\u001b[39m\u001b[38;5;241m.\u001b[39malgorithm \u001b[38;5;241m=\u001b[39m algorithm\n",
      "File \u001b[0;32m/data/conghao001/anaconda3/envs/gnndrug/lib/python3.8/site-packages/torch_geometric/explain/config.py:99\u001b[0m, in \u001b[0;36mExplainerConfig.__init__\u001b[0;34m(self, explanation_type, node_mask_type, edge_mask_type)\u001b[0m\n\u001b[1;32m     96\u001b[0m     edge_mask_type \u001b[38;5;241m=\u001b[39m MaskType(edge_mask_type)\n\u001b[1;32m     98\u001b[0m \u001b[38;5;28;01mif\u001b[39;00m edge_mask_type \u001b[38;5;129;01mis\u001b[39;00m \u001b[38;5;129;01mnot\u001b[39;00m \u001b[38;5;28;01mNone\u001b[39;00m \u001b[38;5;129;01mand\u001b[39;00m edge_mask_type \u001b[38;5;241m!=\u001b[39m MaskType\u001b[38;5;241m.\u001b[39mobject:\n\u001b[0;32m---> 99\u001b[0m     \u001b[38;5;28;01mraise\u001b[39;00m \u001b[38;5;167;01mValueError\u001b[39;00m(\u001b[38;5;124mf\u001b[39m\u001b[38;5;124m\"\u001b[39m\u001b[38;5;124m'\u001b[39m\u001b[38;5;124medge_mask_type\u001b[39m\u001b[38;5;124m'\u001b[39m\u001b[38;5;124m needs be None or of type \u001b[39m\u001b[38;5;124m\"\u001b[39m\n\u001b[1;32m    100\u001b[0m                      \u001b[38;5;124mf\u001b[39m\u001b[38;5;124m\"\u001b[39m\u001b[38;5;124m'\u001b[39m\u001b[38;5;124mobject\u001b[39m\u001b[38;5;124m'\u001b[39m\u001b[38;5;124m (got \u001b[39m\u001b[38;5;124m'\u001b[39m\u001b[38;5;132;01m{\u001b[39;00medge_mask_type\u001b[38;5;241m.\u001b[39mvalue\u001b[38;5;132;01m}\u001b[39;00m\u001b[38;5;124m'\u001b[39m\u001b[38;5;124m)\u001b[39m\u001b[38;5;124m\"\u001b[39m)\n\u001b[1;32m    102\u001b[0m \u001b[38;5;28;01mif\u001b[39;00m node_mask_type \u001b[38;5;129;01mis\u001b[39;00m \u001b[38;5;28;01mNone\u001b[39;00m \u001b[38;5;129;01mand\u001b[39;00m edge_mask_type \u001b[38;5;129;01mis\u001b[39;00m \u001b[38;5;28;01mNone\u001b[39;00m:\n\u001b[1;32m    103\u001b[0m     \u001b[38;5;28;01mraise\u001b[39;00m \u001b[38;5;167;01mValueError\u001b[39;00m(\u001b[38;5;124m\"\u001b[39m\u001b[38;5;124mEither \u001b[39m\u001b[38;5;124m'\u001b[39m\u001b[38;5;124mnode_mask_type\u001b[39m\u001b[38;5;124m'\u001b[39m\u001b[38;5;124m or \u001b[39m\u001b[38;5;124m'\u001b[39m\u001b[38;5;124medge_mask_type\u001b[39m\u001b[38;5;124m'\u001b[39m\u001b[38;5;124m \u001b[39m\u001b[38;5;124m\"\u001b[39m\n\u001b[1;32m    104\u001b[0m                      \u001b[38;5;124m\"\u001b[39m\u001b[38;5;124mmust be provided\u001b[39m\u001b[38;5;124m\"\u001b[39m)\n",
      "\u001b[0;31mValueError\u001b[0m: 'edge_mask_type' needs be None or of type 'object' (got 'common_attributes')"
     ]
    }
   ],
   "source": [
    "# edge can only be object??\n",
    "explanation = explain_with_type('attributes', 'common_attributes')\n",
    "explanation"
   ]
  },
  {
   "cell_type": "code",
   "execution_count": 27,
   "id": "cbced499",
   "metadata": {},
   "outputs": [
    {
     "data": {
      "image/png": "[encoded data removed]",
      "text/plain": [
       "<Figure size 432x288 with 1 Axes>"
      ]
     },
     "metadata": {},
     "output_type": "display_data"
    }
   ],
   "source": [
    "explanation.visualize_graph()"
   ]
  },
  {
   "cell_type": "code",
   "execution_count": 28,
   "id": "235adb8b",
   "metadata": {
    "scrolled": true
   },
   "outputs": [
    {
     "data": {
      "text/plain": [
       "tensor([[0.0842],\n",
       "        [0.0781],\n",
       "        [0.0829],\n",
       "        [0.0765],\n",
       "        [0.0000],\n",
       "        [0.0864],\n",
       "        [0.0920],\n",
       "        [0.0849],\n",
       "        [0.0937],\n",
       "        [0.0782],\n",
       "        [0.0853],\n",
       "        [0.0768],\n",
       "        [0.0876],\n",
       "        [0.1143],\n",
       "        [0.0780],\n",
       "        [0.0822],\n",
       "        [0.0913],\n",
       "        [0.0785],\n",
       "        [0.0934],\n",
       "        [0.0893],\n",
       "        [0.0869],\n",
       "        [0.0939],\n",
       "        [0.1005],\n",
       "        [0.0912],\n",
       "        [0.0853],\n",
       "        [0.0745],\n",
       "        [0.0775],\n",
       "        [0.0822],\n",
       "        [0.0000]], device='cuda:2')"
      ]
     },
     "execution_count": 28,
     "metadata": {},
     "output_type": "execute_result"
    }
   ],
   "source": [
    "explanation.node_mask"
   ]
  },
  {
   "cell_type": "code",
   "execution_count": 32,
   "id": "8f6fc8a2",
   "metadata": {
    "scrolled": true
   },
   "outputs": [
    {
     "data": {
      "text/plain": [
       "tensor([0.9721, 0.0388, 0.0388, 0.9724, 0.0000, 0.9722, 0.0396, 0.0000, 0.0396,\n",
       "        0.0000, 0.0000, 0.0000, 0.0387, 0.0000, 0.0000, 0.0396, 0.0377, 0.0397,\n",
       "        0.9721, 0.0394, 0.0000, 0.0385, 0.0393, 0.0396, 0.0377, 0.0407, 0.0396,\n",
       "        0.0400, 0.0341, 0.0370, 0.0548, 0.0397, 0.0383, 0.9724, 0.0417, 0.0000,\n",
       "        0.9725, 0.0399, 0.0000, 0.0000, 0.0394, 0.0394, 0.0000, 0.0396, 0.9715,\n",
       "        0.0396, 0.0385, 0.0432, 0.0391, 0.0387, 0.0396, 0.9727, 0.0342, 0.0392,\n",
       "        0.0302, 0.0397, 0.0389, 0.9719, 0.0379, 0.0382, 0.0000, 0.0394, 0.0363,\n",
       "        0.0377, 0.9722, 0.0000], device='cuda:2')"
      ]
     },
     "execution_count": 32,
     "metadata": {},
     "output_type": "execute_result"
    }
   ],
   "source": [
    "explanation.edge_mask"
   ]
  },
  {
   "cell_type": "code",
   "execution_count": null,
   "id": "7bba28da",
   "metadata": {},
   "outputs": [],
   "source": []
  },
  {
   "cell_type": "code",
   "execution_count": 22,
   "id": "f7737dcc",
   "metadata": {
    "scrolled": true
   },
   "outputs": [
    {
     "name": "stderr",
     "output_type": "stream",
     "text": [
      "\n",
      "  0%|                                                                                                                                                                             | 0/300 [00:00<?, ?it/s]\u001b[A\n",
      "Explain graph:   0%|                                                                                                                                                              | 0/300 [00:00<?, ?it/s]\u001b[A"
     ]
    },
    {
     "name": "stdout",
     "output_type": "stream",
     "text": [
      "debug h torch.Size([37, 334])\n",
      "debug edge torch.Size([2, 82])\n",
      "36 82\n",
      "36 119\n"
     ]
    },
    {
     "ename": "AssertionError",
     "evalue": "",
     "output_type": "error",
     "traceback": [
      "\u001b[0;31m---------------------------------------------------------------------------\u001b[0m",
      "\u001b[0;31mAssertionError\u001b[0m                            Traceback (most recent call last)",
      "Input \u001b[0;32mIn [22]\u001b[0m, in \u001b[0;36m<cell line: 22>\u001b[0;34m()\u001b[0m\n\u001b[1;32m     10\u001b[0m \u001b[38;5;66;03m# model_args = (\u001b[39;00m\n\u001b[1;32m     11\u001b[0m \u001b[38;5;66;03m#     x_cell_mut,\u001b[39;00m\n\u001b[1;32m     12\u001b[0m \u001b[38;5;66;03m#     batch_drug,\u001b[39;00m\n\u001b[1;32m     13\u001b[0m \u001b[38;5;66;03m#     edge_features\u001b[39;00m\n\u001b[1;32m     14\u001b[0m \u001b[38;5;66;03m# )\u001b[39;00m\n\u001b[1;32m     16\u001b[0m kwargs \u001b[38;5;241m=\u001b[39m {\n\u001b[1;32m     17\u001b[0m     \u001b[38;5;124m\"\u001b[39m\u001b[38;5;124mx_cell_mut\u001b[39m\u001b[38;5;124m\"\u001b[39m: x_cell_mut,\n\u001b[1;32m     18\u001b[0m     \u001b[38;5;124m\"\u001b[39m\u001b[38;5;124mbatch_drug\u001b[39m\u001b[38;5;124m\"\u001b[39m: batch_drug,\n\u001b[1;32m     19\u001b[0m     \u001b[38;5;124m\"\u001b[39m\u001b[38;5;124medge_feat\u001b[39m\u001b[38;5;124m\"\u001b[39m: edge_features\n\u001b[1;32m     20\u001b[0m }\n\u001b[0;32m---> 22\u001b[0m node_feature_mask, edge_mask \u001b[38;5;241m=\u001b[39m \u001b[43mexplainer\u001b[49m\u001b[38;5;241;43m.\u001b[39;49m\u001b[43mexplain_graph\u001b[49m\u001b[43m(\u001b[49m\u001b[43mx\u001b[49m\u001b[43m \u001b[49m\u001b[38;5;241;43m=\u001b[39;49m\u001b[43m \u001b[49m\u001b[43mx\u001b[49m\u001b[43m,\u001b[49m\u001b[43m \u001b[49m\u001b[43medge_index\u001b[49m\u001b[43m \u001b[49m\u001b[38;5;241;43m=\u001b[39;49m\u001b[43m \u001b[49m\u001b[43medge_index\u001b[49m\u001b[43m,\u001b[49m\u001b[43m \u001b[49m\u001b[43mx_cell_mut\u001b[49m\u001b[43m \u001b[49m\u001b[38;5;241;43m=\u001b[39;49m\u001b[43m \u001b[49m\u001b[43mx_cell_mut\u001b[49m\u001b[43m,\u001b[49m\u001b[43m \u001b[49m\u001b[43medge_feat\u001b[49m\u001b[43m \u001b[49m\u001b[38;5;241;43m=\u001b[39;49m\u001b[43m \u001b[49m\u001b[43medge_features\u001b[49m\u001b[43m)\u001b[49m\n",
      "File \u001b[0;32m/data/conghao001/anaconda3/envs/gnndrug/lib/python3.8/site-packages/torch_geometric/nn/models/gnn_explainer.py:165\u001b[0m, in \u001b[0;36mGNNExplainer.explain_graph\u001b[0;34m(self, x, edge_index, **kwargs)\u001b[0m\n\u001b[1;32m    163\u001b[0m \u001b[38;5;28mprint\u001b[39m(\u001b[38;5;124m'\u001b[39m\u001b[38;5;124mdebug h\u001b[39m\u001b[38;5;124m'\u001b[39m, h\u001b[38;5;241m.\u001b[39msize())\n\u001b[1;32m    164\u001b[0m \u001b[38;5;28mprint\u001b[39m(\u001b[38;5;124m'\u001b[39m\u001b[38;5;124mdebug edge\u001b[39m\u001b[38;5;124m'\u001b[39m, edge_index\u001b[38;5;241m.\u001b[39msize())\n\u001b[0;32m--> 165\u001b[0m out \u001b[38;5;241m=\u001b[39m \u001b[38;5;28;43mself\u001b[39;49m\u001b[38;5;241;43m.\u001b[39;49m\u001b[43mmodel\u001b[49m\u001b[43m(\u001b[49m\u001b[43mx\u001b[49m\u001b[38;5;241;43m=\u001b[39;49m\u001b[43mh\u001b[49m\u001b[43m,\u001b[49m\u001b[43m \u001b[49m\u001b[43medge_index\u001b[49m\u001b[38;5;241;43m=\u001b[39;49m\u001b[43medge_index\u001b[49m\u001b[43m,\u001b[49m\u001b[43m \u001b[49m\u001b[43mbatch\u001b[49m\u001b[38;5;241;43m=\u001b[39;49m\u001b[43mbatch\u001b[49m\u001b[43m,\u001b[49m\u001b[43m \u001b[49m\u001b[38;5;241;43m*\u001b[39;49m\u001b[38;5;241;43m*\u001b[39;49m\u001b[43mkwargs\u001b[49m\u001b[43m)\u001b[49m\n\u001b[1;32m    166\u001b[0m loss \u001b[38;5;241m=\u001b[39m \u001b[38;5;28mself\u001b[39m\u001b[38;5;241m.\u001b[39mget_loss(out, prediction, \u001b[38;5;28;01mNone\u001b[39;00m)\n\u001b[1;32m    167\u001b[0m loss\u001b[38;5;241m.\u001b[39mbackward()\n",
      "File \u001b[0;32m/data/conghao001/anaconda3/envs/gnndrug/lib/python3.8/site-packages/torch/nn/modules/module.py:1110\u001b[0m, in \u001b[0;36mModule._call_impl\u001b[0;34m(self, *input, **kwargs)\u001b[0m\n\u001b[1;32m   1106\u001b[0m \u001b[38;5;66;03m# If we don't have any hooks, we want to skip the rest of the logic in\u001b[39;00m\n\u001b[1;32m   1107\u001b[0m \u001b[38;5;66;03m# this function, and just call forward.\u001b[39;00m\n\u001b[1;32m   1108\u001b[0m \u001b[38;5;28;01mif\u001b[39;00m \u001b[38;5;129;01mnot\u001b[39;00m (\u001b[38;5;28mself\u001b[39m\u001b[38;5;241m.\u001b[39m_backward_hooks \u001b[38;5;129;01mor\u001b[39;00m \u001b[38;5;28mself\u001b[39m\u001b[38;5;241m.\u001b[39m_forward_hooks \u001b[38;5;129;01mor\u001b[39;00m \u001b[38;5;28mself\u001b[39m\u001b[38;5;241m.\u001b[39m_forward_pre_hooks \u001b[38;5;129;01mor\u001b[39;00m _global_backward_hooks\n\u001b[1;32m   1109\u001b[0m         \u001b[38;5;129;01mor\u001b[39;00m _global_forward_hooks \u001b[38;5;129;01mor\u001b[39;00m _global_forward_pre_hooks):\n\u001b[0;32m-> 1110\u001b[0m     \u001b[38;5;28;01mreturn\u001b[39;00m \u001b[43mforward_call\u001b[49m\u001b[43m(\u001b[49m\u001b[38;5;241;43m*\u001b[39;49m\u001b[38;5;28;43minput\u001b[39;49m\u001b[43m,\u001b[49m\u001b[43m \u001b[49m\u001b[38;5;241;43m*\u001b[39;49m\u001b[38;5;241;43m*\u001b[39;49m\u001b[43mkwargs\u001b[49m\u001b[43m)\u001b[49m\n\u001b[1;32m   1111\u001b[0m \u001b[38;5;66;03m# Do not call functions when jit is used\u001b[39;00m\n\u001b[1;32m   1112\u001b[0m full_backward_hooks, non_full_backward_hooks \u001b[38;5;241m=\u001b[39m [], []\n",
      "File \u001b[0;32m/data/conghao001/FYP/GCN_Drug/models.py:749\u001b[0m, in \u001b[0;36mRGCNNet.forward\u001b[0;34m(self, x, edge_index, batch, x_cell_mut, edge_feat, edge_weight)\u001b[0m\n\u001b[1;32m    741\u001b[0m \u001b[38;5;28;01mdef\u001b[39;00m \u001b[38;5;21mforward\u001b[39m(\u001b[38;5;28mself\u001b[39m, x, edge_index, batch, x_cell_mut, edge_feat, edge_weight\u001b[38;5;241m=\u001b[39m\u001b[38;5;28;01mNone\u001b[39;00m):\n\u001b[1;32m    742\u001b[0m     \u001b[38;5;66;03m# get graph input\u001b[39;00m\n\u001b[1;32m    743\u001b[0m     \u001b[38;5;66;03m# edge_weight is only used for decoding\u001b[39;00m\n\u001b[1;32m    744\u001b[0m \n\u001b[1;32m    745\u001b[0m     \u001b[38;5;66;03m# x, edge_index, batch = data.x, data.edge_index, data.batch\u001b[39;00m\n\u001b[1;32m    746\u001b[0m     \u001b[38;5;66;03m# edge_index = edge_index.long()\u001b[39;00m\n\u001b[1;32m    747\u001b[0m     edge_feat \u001b[38;5;241m=\u001b[39m edge_feat\u001b[38;5;241m.\u001b[39msqueeze()\n\u001b[0;32m--> 749\u001b[0m     x \u001b[38;5;241m=\u001b[39m \u001b[38;5;28;43mself\u001b[39;49m\u001b[38;5;241;43m.\u001b[39;49m\u001b[43mconv1\u001b[49m\u001b[43m(\u001b[49m\u001b[43mx\u001b[49m\u001b[43m,\u001b[49m\u001b[43m \u001b[49m\u001b[43medge_index\u001b[49m\u001b[43m,\u001b[49m\u001b[43m \u001b[49m\u001b[43medge_type\u001b[49m\u001b[38;5;241;43m=\u001b[39;49m\u001b[43medge_feat\u001b[49m\u001b[43m)\u001b[49m\n\u001b[1;32m    750\u001b[0m     x \u001b[38;5;241m=\u001b[39m \u001b[38;5;28mself\u001b[39m\u001b[38;5;241m.\u001b[39mrelu(x)\n\u001b[1;32m    751\u001b[0m     x \u001b[38;5;241m=\u001b[39m \u001b[38;5;28mself\u001b[39m\u001b[38;5;241m.\u001b[39mconv2(x, edge_index, edge_type\u001b[38;5;241m=\u001b[39medge_feat)\n",
      "File \u001b[0;32m/data/conghao001/anaconda3/envs/gnndrug/lib/python3.8/site-packages/torch/nn/modules/module.py:1110\u001b[0m, in \u001b[0;36mModule._call_impl\u001b[0;34m(self, *input, **kwargs)\u001b[0m\n\u001b[1;32m   1106\u001b[0m \u001b[38;5;66;03m# If we don't have any hooks, we want to skip the rest of the logic in\u001b[39;00m\n\u001b[1;32m   1107\u001b[0m \u001b[38;5;66;03m# this function, and just call forward.\u001b[39;00m\n\u001b[1;32m   1108\u001b[0m \u001b[38;5;28;01mif\u001b[39;00m \u001b[38;5;129;01mnot\u001b[39;00m (\u001b[38;5;28mself\u001b[39m\u001b[38;5;241m.\u001b[39m_backward_hooks \u001b[38;5;129;01mor\u001b[39;00m \u001b[38;5;28mself\u001b[39m\u001b[38;5;241m.\u001b[39m_forward_hooks \u001b[38;5;129;01mor\u001b[39;00m \u001b[38;5;28mself\u001b[39m\u001b[38;5;241m.\u001b[39m_forward_pre_hooks \u001b[38;5;129;01mor\u001b[39;00m _global_backward_hooks\n\u001b[1;32m   1109\u001b[0m         \u001b[38;5;129;01mor\u001b[39;00m _global_forward_hooks \u001b[38;5;129;01mor\u001b[39;00m _global_forward_pre_hooks):\n\u001b[0;32m-> 1110\u001b[0m     \u001b[38;5;28;01mreturn\u001b[39;00m \u001b[43mforward_call\u001b[49m\u001b[43m(\u001b[49m\u001b[38;5;241;43m*\u001b[39;49m\u001b[38;5;28;43minput\u001b[39;49m\u001b[43m,\u001b[49m\u001b[43m \u001b[49m\u001b[38;5;241;43m*\u001b[39;49m\u001b[38;5;241;43m*\u001b[39;49m\u001b[43mkwargs\u001b[49m\u001b[43m)\u001b[49m\n\u001b[1;32m   1111\u001b[0m \u001b[38;5;66;03m# Do not call functions when jit is used\u001b[39;00m\n\u001b[1;32m   1112\u001b[0m full_backward_hooks, non_full_backward_hooks \u001b[38;5;241m=\u001b[39m [], []\n",
      "File \u001b[0;32m/data/conghao001/anaconda3/envs/gnndrug/lib/python3.8/site-packages/torch_geometric/nn/conv/rgcn_conv.py:218\u001b[0m, in \u001b[0;36mRGCNConv.forward\u001b[0;34m(self, x, edge_index, edge_type)\u001b[0m\n\u001b[1;32m    216\u001b[0m             out \u001b[38;5;241m+\u001b[39m\u001b[38;5;241m=\u001b[39m \u001b[38;5;28mself\u001b[39m\u001b[38;5;241m.\u001b[39mpropagate(tmp, x\u001b[38;5;241m=\u001b[39mweight[i, x_l], size\u001b[38;5;241m=\u001b[39msize)\n\u001b[1;32m    217\u001b[0m         \u001b[38;5;28;01melse\u001b[39;00m:\n\u001b[0;32m--> 218\u001b[0m             h \u001b[38;5;241m=\u001b[39m \u001b[38;5;28;43mself\u001b[39;49m\u001b[38;5;241;43m.\u001b[39;49m\u001b[43mpropagate\u001b[49m\u001b[43m(\u001b[49m\u001b[43mtmp\u001b[49m\u001b[43m,\u001b[49m\u001b[43m \u001b[49m\u001b[43mx\u001b[49m\u001b[38;5;241;43m=\u001b[39;49m\u001b[43mx_l\u001b[49m\u001b[43m,\u001b[49m\u001b[43m \u001b[49m\u001b[43msize\u001b[49m\u001b[38;5;241;43m=\u001b[39;49m\u001b[43msize\u001b[49m\u001b[43m)\u001b[49m\n\u001b[1;32m    219\u001b[0m             out \u001b[38;5;241m=\u001b[39m out \u001b[38;5;241m+\u001b[39m (h \u001b[38;5;241m@\u001b[39m weight[i])\n\u001b[1;32m    221\u001b[0m root \u001b[38;5;241m=\u001b[39m \u001b[38;5;28mself\u001b[39m\u001b[38;5;241m.\u001b[39mroot\n",
      "File \u001b[0;32m/data/conghao001/anaconda3/envs/gnndrug/lib/python3.8/site-packages/torch_geometric/nn/conv/message_passing.py:338\u001b[0m, in \u001b[0;36mMessagePassing.propagate\u001b[0;34m(self, edge_index, size, **kwargs)\u001b[0m\n\u001b[1;32m    336\u001b[0m         edge_mask \u001b[38;5;241m=\u001b[39m torch\u001b[38;5;241m.\u001b[39mcat([edge_mask, loop], dim\u001b[38;5;241m=\u001b[39m\u001b[38;5;241m0\u001b[39m)\n\u001b[1;32m    337\u001b[0m     \u001b[38;5;28mprint\u001b[39m(out\u001b[38;5;241m.\u001b[39msize(\u001b[38;5;28mself\u001b[39m\u001b[38;5;241m.\u001b[39mnode_dim), edge_mask\u001b[38;5;241m.\u001b[39msize(\u001b[38;5;241m0\u001b[39m))\n\u001b[0;32m--> 338\u001b[0m     \u001b[38;5;28;01massert\u001b[39;00m out\u001b[38;5;241m.\u001b[39msize(\u001b[38;5;28mself\u001b[39m\u001b[38;5;241m.\u001b[39mnode_dim) \u001b[38;5;241m==\u001b[39m edge_mask\u001b[38;5;241m.\u001b[39msize(\u001b[38;5;241m0\u001b[39m)\n\u001b[1;32m    339\u001b[0m     out \u001b[38;5;241m=\u001b[39m out \u001b[38;5;241m*\u001b[39m edge_mask\u001b[38;5;241m.\u001b[39mview([\u001b[38;5;241m-\u001b[39m\u001b[38;5;241m1\u001b[39m] \u001b[38;5;241m+\u001b[39m [\u001b[38;5;241m1\u001b[39m] \u001b[38;5;241m*\u001b[39m (out\u001b[38;5;241m.\u001b[39mdim() \u001b[38;5;241m-\u001b[39m \u001b[38;5;241m1\u001b[39m))\n\u001b[1;32m    341\u001b[0m aggr_kwargs \u001b[38;5;241m=\u001b[39m \u001b[38;5;28mself\u001b[39m\u001b[38;5;241m.\u001b[39minspector\u001b[38;5;241m.\u001b[39mdistribute(\u001b[38;5;124m'\u001b[39m\u001b[38;5;124maggregate\u001b[39m\u001b[38;5;124m'\u001b[39m, coll_dict)\n",
      "\u001b[0;31mAssertionError\u001b[0m: "
     ]
    }
   ],
   "source": [
    "# deprecated\n",
    "\n",
    "'''\n",
    "explainer = GNNExplainer(model, lr=1e-4, epochs=300, return_type='regression')\n",
    "\n",
    "x = data.x\n",
    "edge_index = data.edge_index\n",
    "y = data.y\n",
    "batch_drug = data.batch\n",
    "edge_features = data.edge_features\n",
    "x_cell_mut = data.target\n",
    "\n",
    "# model_args = (\n",
    "#     x_cell_mut,\n",
    "#     batch_drug,\n",
    "#     edge_features\n",
    "# )\n",
    "\n",
    "kwargs = {\n",
    "    \"x_cell_mut\": x_cell_mut,\n",
    "    \"batch_drug\": batch_drug,\n",
    "    \"edge_feat\": edge_features\n",
    "}\n",
    "\n",
    "node_feature_mask, edge_mask = explainer.explain_graph(x = x, edge_index = edge_index, x_cell_mut = x_cell_mut, edge_feat = edge_features)\n",
    "# node_feature_mask, edge_mask = explainer.explain_graph(x, edge_index, **kwargs)\n",
    "'''"
   ]
  },
  {
   "cell_type": "code",
   "execution_count": 23,
   "id": "1f84492f",
   "metadata": {},
   "outputs": [
    {
     "data": {
      "text/plain": [
       "torch.Size([36])"
      ]
     },
     "execution_count": 23,
     "metadata": {},
     "output_type": "execute_result"
    }
   ],
   "source": [
    "edge_features[edge_features==0].shape"
   ]
  },
  {
   "cell_type": "code",
   "execution_count": 24,
   "id": "03514133",
   "metadata": {},
   "outputs": [
    {
     "data": {
      "text/plain": [
       "torch.Size([37, 334])"
      ]
     },
     "execution_count": 24,
     "metadata": {},
     "output_type": "execute_result"
    }
   ],
   "source": [
    "x.shape"
   ]
  },
  {
   "cell_type": "code",
   "execution_count": 25,
   "id": "aa6a7189",
   "metadata": {},
   "outputs": [
    {
     "data": {
      "text/plain": [
       "82"
      ]
     },
     "execution_count": 25,
     "metadata": {},
     "output_type": "execute_result"
    }
   ],
   "source": [
    "edge_index.size(1)"
   ]
  },
  {
   "cell_type": "code",
   "execution_count": null,
   "id": "795e86be",
   "metadata": {
    "scrolled": true
   },
   "outputs": [],
   "source": [
    "# debug rgcn model\n",
    "(N, F) = x.size()\n",
    "std = 0.1\n",
    "node_feat_mask = torch.nn.Parameter(torch.randn(1, F) * std)\n",
    "node_feat_mask"
   ]
  },
  {
   "cell_type": "code",
   "execution_count": null,
   "id": "88c0c7f6",
   "metadata": {},
   "outputs": [],
   "source": [
    "h = x * node_feat_mask.sigmoid().cuda()\n",
    "h"
   ]
  },
  {
   "cell_type": "code",
   "execution_count": null,
   "id": "425d561b",
   "metadata": {},
   "outputs": [],
   "source": [
    "h.shape"
   ]
  },
  {
   "cell_type": "markdown",
   "id": "b04bafbb",
   "metadata": {},
   "source": [
    "- node_feature_mask: size = node feature length (334/...), importance of each node feature (invariant of atoms)\n",
    "- edge_mask: size = edge number, importance of edges, stored in the sequence of edge_index (0,1),(0,5),(1,..."
   ]
  },
  {
   "cell_type": "code",
   "execution_count": null,
   "id": "85036fc6",
   "metadata": {},
   "outputs": [],
   "source": [
    "one.edge_index"
   ]
  },
  {
   "cell_type": "code",
   "execution_count": null,
   "id": "67525f27",
   "metadata": {},
   "outputs": [],
   "source": [
    "edge_mask"
   ]
  },
  {
   "cell_type": "code",
   "execution_count": null,
   "id": "56aa46eb",
   "metadata": {
    "scrolled": true
   },
   "outputs": [],
   "source": [
    "node_feature_mask"
   ]
  },
  {
   "cell_type": "code",
   "execution_count": null,
   "id": "84cf3a25",
   "metadata": {},
   "outputs": [],
   "source": [
    "edge_mask_cpu = edge_mask.to('cpu')\n",
    "edge_index_cpu = edge_index.to('cpu')"
   ]
  },
  {
   "cell_type": "code",
   "execution_count": null,
   "id": "f57a086d",
   "metadata": {},
   "outputs": [],
   "source": [
    "ax, G = explainer.visualize_subgraph(node_idx=None, edge_index=edge_index_cpu, edge_mask=edge_mask_cpu)\n",
    "plt.show()"
   ]
  },
  {
   "cell_type": "code",
   "execution_count": null,
   "id": "cd5155e0",
   "metadata": {},
   "outputs": [],
   "source": [
    "G[0]"
   ]
  },
  {
   "cell_type": "code",
   "execution_count": null,
   "id": "591f7648",
   "metadata": {},
   "outputs": [],
   "source": [
    "G[5][0]"
   ]
  },
  {
   "cell_type": "code",
   "execution_count": null,
   "id": "1a9636ba",
   "metadata": {},
   "outputs": [],
   "source": [
    "explainer = GNNExplainer(model, lr=1e-4, epochs=300)\n",
    "\n",
    "for data in test_loader:\n",
    "    x = data.x\n",
    "    edge_index = data.edge_index\n",
    "    y = data.y\n",
    "    batch = data.batch\n",
    "    edge_features = data.edge_features\n",
    "    target = data.target\n",
    "    \n",
    "    node_feature_mask, edge_mask = explainer.explain_graph(x, edge_index, batch=batch, edge_feat = edge_features)\n",
    "    ax, G = explainer.visualize_subgraph(edge_index, edge_mask, y=y)"
   ]
  },
  {
   "cell_type": "code",
   "execution_count": null,
   "id": "0656cd4f",
   "metadata": {},
   "outputs": [],
   "source": []
  }
 ],
 "metadata": {
  "kernelspec": {
   "display_name": "gnn drug",
   "language": "python",
   "name": "gnndrug"
  },
  "language_info": {
   "codemirror_mode": {
    "name": "ipython",
    "version": 3
   },
   "file_extension": ".py",
   "mimetype": "text/x-python",
   "name": "python",
   "nbconvert_exporter": "python",
   "pygments_lexer": "ipython3",
   "version": "3.8.13"
  }
 },
 "nbformat": 4,
 "nbformat_minor": 5
}
