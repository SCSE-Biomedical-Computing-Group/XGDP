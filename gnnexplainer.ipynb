{
 "cells": [
  {
   "cell_type": "code",
   "execution_count": 27,
   "id": "e22d4252",
   "metadata": {},
   "outputs": [],
   "source": [
    "from torch_geometric.loader import DataLoader\n",
    "import torch\n",
    "import numpy as np\n",
    "import pandas as pd\n",
    "import matplotlib.pyplot as plt\n",
    "import networkx as nx"
   ]
  },
  {
   "cell_type": "code",
   "execution_count": 2,
   "id": "d1fa4584",
   "metadata": {},
   "outputs": [
    {
     "data": {
      "text/plain": [
       "'1.11.0'"
      ]
     },
     "execution_count": 2,
     "metadata": {},
     "output_type": "execute_result"
    }
   ],
   "source": [
    "torch.__version__"
   ]
  },
  {
   "cell_type": "code",
   "execution_count": 3,
   "id": "91b3b84b",
   "metadata": {},
   "outputs": [
    {
     "data": {
      "text/plain": [
       "device(type='cuda', index=0)"
      ]
     },
     "execution_count": 3,
     "metadata": {},
     "output_type": "execute_result"
    }
   ],
   "source": [
    "device = torch.device(\"cuda:0\")\n",
    "# device = torch.device(\"cpu\")\n",
    "device"
   ]
  },
  {
   "cell_type": "code",
   "execution_count": 4,
   "id": "6fba812f",
   "metadata": {},
   "outputs": [],
   "source": [
    "from utils_data import TestbedDataset\n",
    "from models import GATNet_E, GATNet, GCNNet"
   ]
  },
  {
   "cell_type": "code",
   "execution_count": 5,
   "id": "9f705736",
   "metadata": {},
   "outputs": [
    {
     "data": {
      "text/plain": [
       "GATNet(\n",
       "  (gcn1): GATConv(334, 334, heads=10)\n",
       "  (gcn2): GATConv(3340, 128, heads=1)\n",
       "  (fc_g1): Linear(in_features=128, out_features=128, bias=True)\n",
       "  (conv_xt_1): Conv1d(1, 32, kernel_size=(8,), stride=(1,))\n",
       "  (pool_xt_1): MaxPool1d(kernel_size=3, stride=3, padding=0, dilation=1, ceil_mode=False)\n",
       "  (conv_xt_2): Conv1d(32, 64, kernel_size=(8,), stride=(1,))\n",
       "  (pool_xt_2): MaxPool1d(kernel_size=3, stride=3, padding=0, dilation=1, ceil_mode=False)\n",
       "  (conv_xt_3): Conv1d(64, 128, kernel_size=(8,), stride=(1,))\n",
       "  (pool_xt_3): MaxPool1d(kernel_size=3, stride=3, padding=0, dilation=1, ceil_mode=False)\n",
       "  (fc1_xt): Linear(in_features=2944, out_features=128, bias=True)\n",
       "  (fc1): Linear(in_features=256, out_features=1024, bias=True)\n",
       "  (fc2): Linear(in_features=1024, out_features=128, bias=True)\n",
       "  (out): Linear(in_features=128, out_features=1, bias=True)\n",
       "  (relu): ReLU()\n",
       "  (dropout): Dropout(p=0.5, inplace=False)\n",
       ")"
      ]
     },
     "execution_count": 5,
     "metadata": {},
     "output_type": "execute_result"
    }
   ],
   "source": [
    "model = GATNet()\n",
    "model_path = 'root_folder/root_013/models/model_GAT-EP300-SW801010_GDSC.model'\n",
    "\n",
    "# model = GCNNet()\n",
    "# model_path = 'root_folder/root_003/models/model_GCN-EP300-SW801010_GDSC.model'\n",
    "model.load_state_dict(torch.load(model_path, map_location=device))\n",
    "model.to(device)"
   ]
  },
  {
   "cell_type": "code",
   "execution_count": 6,
   "id": "06839c88",
   "metadata": {},
   "outputs": [
    {
     "name": "stdout",
     "output_type": "stream",
     "text": [
      "Pre-processed data found: root_folder/root_013/processed/GDSC_test_mix.pt, loading ...\n"
     ]
    }
   ],
   "source": [
    "branch_folder = \"root_folder/root_013\"\n",
    "dataset = 'GDSC'\n",
    "test_data = TestbedDataset(root=branch_folder, dataset=dataset+'_test_mix')"
   ]
  },
  {
   "cell_type": "code",
   "execution_count": 7,
   "id": "b8f16f4c",
   "metadata": {},
   "outputs": [],
   "source": [
    "test_batch = 1\n",
    "test_loader = DataLoader(test_data, batch_size=test_batch, shuffle=False)"
   ]
  },
  {
   "cell_type": "code",
   "execution_count": 9,
   "id": "e44637f2",
   "metadata": {},
   "outputs": [
    {
     "name": "stdout",
     "output_type": "stream",
     "text": [
      "DataBatch(x=[32, 334], edge_index=[2, 74], y=[1], edge_features=[74, 4], smiles=[1], drug_name=[1], cell_line_name=[1], target=[1, 735], c_size=[1], batch=[32], ptr=[2])\n",
      "DataBatch(x=[27, 334], edge_index=[2, 60], y=[1], edge_features=[60, 4], smiles=[1], drug_name=[1], cell_line_name=[1], target=[1, 735], c_size=[1], batch=[27], ptr=[2])\n",
      "DataBatch(x=[29, 334], edge_index=[2, 64], y=[1], edge_features=[64, 4], smiles=[1], drug_name=[1], cell_line_name=[1], target=[1, 735], c_size=[1], batch=[29], ptr=[2])\n",
      "DataBatch(x=[37, 334], edge_index=[2, 80], y=[1], edge_features=[80, 4], smiles=[1], drug_name=[1], cell_line_name=[1], target=[1, 735], c_size=[1], batch=[37], ptr=[2])\n",
      "DataBatch(x=[31, 334], edge_index=[2, 68], y=[1], edge_features=[68, 4], smiles=[1], drug_name=[1], cell_line_name=[1], target=[1, 735], c_size=[1], batch=[31], ptr=[2])\n"
     ]
    }
   ],
   "source": [
    "i = 0\n",
    "for data in test_loader:\n",
    "    i += 1\n",
    "    print(data)\n",
    "    if i >= 5:\n",
    "        break"
   ]
  },
  {
   "cell_type": "code",
   "execution_count": 8,
   "id": "03514133",
   "metadata": {},
   "outputs": [],
   "source": [
    "from torch_geometric.nn import GNNExplainer"
   ]
  },
  {
   "cell_type": "code",
   "execution_count": 15,
   "id": "f7737dcc",
   "metadata": {
    "scrolled": false
   },
   "outputs": [
    {
     "name": "stdout",
     "output_type": "stream",
     "text": [
      "DataBatch(x=[32, 334], edge_index=[2, 74], y=[1], edge_features=[74, 4], smiles=[1], drug_name=[1], cell_line_name=[1], target=[1, 735], c_size=[1], batch=[32], ptr=[2])\n"
     ]
    },
    {
     "name": "stderr",
     "output_type": "stream",
     "text": [
      "Explain graph: 100%|█████████████████████████| 300/300 [00:02<00:00, 109.19it/s]\n"
     ]
    }
   ],
   "source": [
    "# test one drug\n",
    "one = next(iter(test_loader))\n",
    "data = one.to(device)\n",
    "print(data)\n",
    "\n",
    "explainer = GNNExplainer(model, lr=1e-4, epochs=300, return_type='regression')\n",
    "\n",
    "x = data.x\n",
    "edge_index = data.edge_index\n",
    "y = data.y\n",
    "batch_drug = data.batch\n",
    "edge_features = data.edge_features\n",
    "x_cell_mut = data.target\n",
    "\n",
    "# model_args = (\n",
    "#     x_cell_mut,\n",
    "#     batch_drug,\n",
    "#     edge_features\n",
    "# )\n",
    "\n",
    "kwargs = {\n",
    "    \"x_cell_mut\": x_cell_mut,\n",
    "    \"batch_drug\": batch_drug,\n",
    "    \"edge_feat\": edge_features\n",
    "}\n",
    "\n",
    "node_feature_mask, edge_mask = explainer.explain_graph(x = x, edge_index = edge_index, x_cell_mut = x_cell_mut, edge_feat = edge_features)\n",
    "# node_feature_mask, edge_mask = explainer.explain_graph(x, edge_index, **kwargs)\n"
   ]
  },
  {
   "cell_type": "markdown",
   "id": "b04bafbb",
   "metadata": {},
   "source": [
    "- node_feature_mask: size = node feature length (334/...), importance of each node feature (inviriant of atoms)\n",
    "- edge_mask: size = edge number, importance of edges, stored in the sequence of nodes (0,1),(0,5),(1,..."
   ]
  },
  {
   "cell_type": "code",
   "execution_count": 36,
   "id": "56aa46eb",
   "metadata": {
    "scrolled": true
   },
   "outputs": [
    {
     "data": {
      "text/plain": [
       "tensor([0.4976, 0.5065, 0.4914, 0.5239, 0.4937, 0.4706, 0.4806, 0.5110, 0.5185,\n",
       "        0.4583, 0.5045, 0.4983, 0.5022, 0.5114, 0.4806, 0.4560, 0.5129, 0.5328,\n",
       "        0.4364, 0.4887, 0.4795, 0.5035, 0.4957, 0.4973, 0.5128, 0.4705, 0.5133,\n",
       "        0.4913, 0.4488, 0.5148, 0.4933, 0.4996, 0.4709, 0.4733, 0.4507, 0.5296,\n",
       "        0.4383, 0.4841, 0.4949, 0.4847, 0.4479, 0.4458, 0.5031, 0.4738, 0.4706,\n",
       "        0.5398, 0.4910, 0.5061, 0.4746, 0.4958, 0.4184, 0.4811, 0.4741, 0.5053,\n",
       "        0.4454, 0.4759, 0.4729, 0.4903, 0.4830, 0.4988, 0.5272, 0.4588, 0.5004,\n",
       "        0.4677, 0.5067, 0.4761, 0.4820, 0.4977, 0.5373, 0.5367, 0.5371, 0.5231,\n",
       "        0.4874, 0.5167, 0.5347, 0.5282, 0.4927, 0.4444, 0.5399, 0.5167, 0.4499,\n",
       "        0.4939, 0.5665, 0.4477, 0.4841, 0.5075, 0.4993, 0.5194, 0.5180, 0.4918,\n",
       "        0.4828, 0.4890, 0.5111, 0.5411, 0.4678, 0.5339, 0.4773, 0.4944, 0.4839,\n",
       "        0.4756, 0.5042, 0.4843, 0.5048, 0.4731, 0.4653, 0.4681, 0.4613, 0.4880,\n",
       "        0.4995, 0.4966, 0.5282, 0.4785, 0.4908, 0.4977, 0.4845, 0.4780, 0.5027,\n",
       "        0.4615, 0.4760, 0.4999, 0.4594, 0.5741, 0.4994, 0.4588, 0.5014, 0.4902,\n",
       "        0.5071, 0.5049, 0.4978, 0.5044, 0.5173, 0.4754, 0.5267, 0.5144, 0.5215,\n",
       "        0.5039, 0.4843, 0.5004, 0.4540, 0.5011, 0.5015, 0.5097, 0.5234, 0.5045,\n",
       "        0.4564, 0.4871, 0.4939, 0.5039, 0.4987, 0.4992, 0.5132, 0.4959, 0.4921,\n",
       "        0.4961, 0.4832, 0.4761, 0.4854, 0.4428, 0.4819, 0.4790, 0.5003, 0.4871,\n",
       "        0.4687, 0.5004, 0.4898, 0.4633, 0.5033, 0.5194, 0.4907, 0.4727, 0.4876,\n",
       "        0.4777, 0.5004, 0.4962, 0.4729, 0.4522, 0.5188, 0.5295, 0.4778, 0.4622,\n",
       "        0.4557, 0.5284, 0.4988, 0.4497, 0.4845, 0.4805, 0.5146, 0.5085, 0.5096,\n",
       "        0.5293, 0.4598, 0.4720, 0.4972, 0.4904, 0.5073, 0.4842, 0.5254, 0.4859,\n",
       "        0.4605, 0.4540, 0.4880, 0.4550, 0.4839, 0.4640, 0.4870, 0.5160, 0.5157,\n",
       "        0.5045, 0.5126, 0.4978, 0.4943, 0.5301, 0.4963, 0.4735, 0.4813, 0.4564,\n",
       "        0.5150, 0.5078, 0.5249, 0.4873, 0.4635, 0.5000, 0.4574, 0.5324, 0.5126,\n",
       "        0.4872, 0.4724, 0.4825, 0.4567, 0.4675, 0.4523, 0.5014, 0.4810, 0.4958,\n",
       "        0.5324, 0.4920, 0.4979, 0.4926, 0.5137, 0.4833, 0.5270, 0.5044, 0.4353,\n",
       "        0.4788, 0.4734, 0.4651, 0.5011, 0.4609, 0.4898, 0.4577, 0.4698, 0.5351,\n",
       "        0.5343, 0.4457, 0.4737, 0.5261, 0.5390, 0.4629, 0.5246, 0.5014, 0.4845,\n",
       "        0.5191, 0.5247, 0.4626, 0.4445, 0.5337, 0.5053, 0.5083, 0.4933, 0.5178,\n",
       "        0.5172, 0.5058, 0.5147, 0.4977, 0.4491, 0.4736, 0.4609, 0.4947, 0.5066,\n",
       "        0.4763, 0.5085, 0.4928, 0.4975, 0.5009, 0.5142, 0.4829, 0.4667, 0.4733,\n",
       "        0.5001, 0.4785, 0.5355, 0.4935, 0.4946, 0.4704, 0.4596, 0.4853, 0.4723,\n",
       "        0.4947, 0.4724, 0.4480, 0.4736, 0.5119, 0.4635, 0.4469, 0.5026, 0.4808,\n",
       "        0.4811, 0.4858, 0.4927, 0.4830, 0.5028, 0.4849, 0.4557, 0.5288, 0.4887,\n",
       "        0.4997, 0.4941, 0.5123, 0.4924, 0.5233, 0.5080, 0.5131, 0.4727, 0.4513,\n",
       "        0.4736, 0.4887, 0.4539, 0.5374, 0.4997, 0.4857, 0.4854, 0.4996, 0.5051,\n",
       "        0.4824], device='cuda:0')"
      ]
     },
     "execution_count": 36,
     "metadata": {},
     "output_type": "execute_result"
    }
   ],
   "source": [
    "node_feature_mask"
   ]
  },
  {
   "cell_type": "code",
   "execution_count": 21,
   "id": "84cf3a25",
   "metadata": {},
   "outputs": [],
   "source": [
    "edge_mask_cpu = edge_mask.to('cpu')\n",
    "edge_index_cpu = edge_index.to('cpu')"
   ]
  },
  {
   "cell_type": "code",
   "execution_count": 26,
   "id": "f57a086d",
   "metadata": {},
   "outputs": [
    {
     "data": {
      "image/png": "[encoded data removed]",
      "text/plain": [
       "<Figure size 432x288 with 1 Axes>"
      ]
     },
     "metadata": {},
     "output_type": "display_data"
    }
   ],
   "source": [
    "ax, G = explainer.visualize_subgraph(node_idx=None, edge_index=edge_index_cpu, edge_mask=edge_mask_cpu)\n",
    "plt.show()"
   ]
  },
  {
   "cell_type": "code",
   "execution_count": 34,
   "id": "cd5155e0",
   "metadata": {},
   "outputs": [
    {
     "data": {
      "text/plain": [
       "AtlasView({1: {'att': 0.4867490530014038, 'edge_color': 'black'}, 5: {'att': 0.515681803226471, 'edge_color': 'black'}})"
      ]
     },
     "execution_count": 34,
     "metadata": {},
     "output_type": "execute_result"
    }
   ],
   "source": [
    "G[0]"
   ]
  },
  {
   "cell_type": "code",
   "execution_count": 42,
   "id": "1a9636ba",
   "metadata": {},
   "outputs": [
    {
     "ename": "TypeError",
     "evalue": "get_initial_prediction() got multiple values for keyword argument 'batch'",
     "output_type": "error",
     "traceback": [
      "\u001b[0;31m---------------------------------------------------------------------------\u001b[0m",
      "\u001b[0;31mTypeError\u001b[0m                                 Traceback (most recent call last)",
      "Input \u001b[0;32mIn [42]\u001b[0m, in \u001b[0;36m<cell line: 3>\u001b[0;34m()\u001b[0m\n\u001b[1;32m      8\u001b[0m edge_features \u001b[38;5;241m=\u001b[39m data\u001b[38;5;241m.\u001b[39medge_features\n\u001b[1;32m      9\u001b[0m target \u001b[38;5;241m=\u001b[39m data\u001b[38;5;241m.\u001b[39mtarget\n\u001b[0;32m---> 11\u001b[0m node_feature_mask, edge_mask \u001b[38;5;241m=\u001b[39m \u001b[43mexplainer\u001b[49m\u001b[38;5;241;43m.\u001b[39;49m\u001b[43mexplain_graph\u001b[49m\u001b[43m(\u001b[49m\u001b[43mx\u001b[49m\u001b[43m,\u001b[49m\u001b[43m \u001b[49m\u001b[43medge_index\u001b[49m\u001b[43m,\u001b[49m\u001b[43m \u001b[49m\u001b[43mbatch\u001b[49m\u001b[38;5;241;43m=\u001b[39;49m\u001b[43mbatch\u001b[49m\u001b[43m,\u001b[49m\u001b[43m \u001b[49m\u001b[43medge_feat\u001b[49m\u001b[43m \u001b[49m\u001b[38;5;241;43m=\u001b[39;49m\u001b[43m \u001b[49m\u001b[43medge_features\u001b[49m\u001b[43m)\u001b[49m\n\u001b[1;32m     12\u001b[0m ax, G \u001b[38;5;241m=\u001b[39m explainer\u001b[38;5;241m.\u001b[39mvisualize_subgraph(edge_index, edge_mask, y\u001b[38;5;241m=\u001b[39my)\n",
      "File \u001b[0;32m/data/conghao001/anaconda3/envs/gnndrug/lib/python3.8/site-packages/torch_geometric/nn/models/gnn_explainer.py:143\u001b[0m, in \u001b[0;36mGNNExplainer.explain_graph\u001b[0;34m(self, x, edge_index, **kwargs)\u001b[0m\n\u001b[1;32m    140\u001b[0m batch \u001b[38;5;241m=\u001b[39m torch\u001b[38;5;241m.\u001b[39mzeros(x\u001b[38;5;241m.\u001b[39mshape[\u001b[38;5;241m0\u001b[39m], dtype\u001b[38;5;241m=\u001b[39m\u001b[38;5;28mint\u001b[39m, device\u001b[38;5;241m=\u001b[39mx\u001b[38;5;241m.\u001b[39mdevice)\n\u001b[1;32m    142\u001b[0m \u001b[38;5;66;03m# Get the initial prediction.\u001b[39;00m\n\u001b[0;32m--> 143\u001b[0m prediction \u001b[38;5;241m=\u001b[39m \u001b[38;5;28mself\u001b[39m\u001b[38;5;241m.\u001b[39mget_initial_prediction(x, edge_index, batch\u001b[38;5;241m=\u001b[39mbatch,\n\u001b[1;32m    144\u001b[0m                                          \u001b[38;5;241m*\u001b[39m\u001b[38;5;241m*\u001b[39mkwargs)\n\u001b[1;32m    146\u001b[0m \u001b[38;5;28mself\u001b[39m\u001b[38;5;241m.\u001b[39m_initialize_masks(x, edge_index)\n\u001b[1;32m    147\u001b[0m \u001b[38;5;28mself\u001b[39m\u001b[38;5;241m.\u001b[39mto(x\u001b[38;5;241m.\u001b[39mdevice)\n",
      "\u001b[0;31mTypeError\u001b[0m: get_initial_prediction() got multiple values for keyword argument 'batch'"
     ]
    }
   ],
   "source": [
    "explainer = GNNExplainer(model, lr=1e-4, epochs=300)\n",
    "\n",
    "for data in test_loader:\n",
    "    x = data.x\n",
    "    edge_index = data.edge_index\n",
    "    y = data.y\n",
    "    batch = data.batch\n",
    "    edge_features = data.edge_features\n",
    "    target = data.target\n",
    "    \n",
    "    node_feature_mask, edge_mask = explainer.explain_graph(x, edge_index, batch=batch, edge_feat = edge_features)\n",
    "    ax, G = explainer.visualize_subgraph(edge_index, edge_mask, y=y)"
   ]
  },
  {
   "cell_type": "code",
   "execution_count": null,
   "id": "0656cd4f",
   "metadata": {},
   "outputs": [],
   "source": []
  }
 ],
 "metadata": {
  "kernelspec": {
   "display_name": "gnn drug",
   "language": "python",
   "name": "gnndrug"
  },
  "language_info": {
   "codemirror_mode": {
    "name": "ipython",
    "version": 3
   },
   "file_extension": ".py",
   "mimetype": "text/x-python",
   "name": "python",
   "nbconvert_exporter": "python",
   "pygments_lexer": "ipython3",
   "version": "3.8.13"
  }
 },
 "nbformat": 4,
 "nbformat_minor": 5
}
