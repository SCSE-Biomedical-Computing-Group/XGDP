{
 "cells": [
  {
   "cell_type": "code",
   "execution_count": 1,
   "id": "e22d4252",
   "metadata": {},
   "outputs": [
    {
     "name": "stderr",
     "output_type": "stream",
     "text": [
      "/data/conghao001/anaconda3/envs/gnndrug/lib/python3.8/site-packages/tqdm/auto.py:22: TqdmWarning: IProgress not found. Please update jupyter and ipywidgets. See https://ipywidgets.readthedocs.io/en/stable/user_install.html\n",
      "  from .autonotebook import tqdm as notebook_tqdm\n"
     ]
    }
   ],
   "source": [
    "from torch_geometric.loader import DataLoader\n",
    "import torch\n",
    "import numpy as np\n",
    "import pandas as pd\n",
    "import matplotlib.pyplot as plt"
   ]
  },
  {
   "cell_type": "code",
   "execution_count": 2,
   "id": "d1fa4584",
   "metadata": {},
   "outputs": [
    {
     "data": {
      "text/plain": [
       "'1.10.2'"
      ]
     },
     "execution_count": 2,
     "metadata": {},
     "output_type": "execute_result"
    }
   ],
   "source": [
    "torch.__version__"
   ]
  },
  {
   "cell_type": "code",
   "execution_count": 6,
   "id": "91b3b84b",
   "metadata": {},
   "outputs": [
    {
     "data": {
      "text/plain": [
       "device(type='cuda', index=2)"
      ]
     },
     "execution_count": 6,
     "metadata": {},
     "output_type": "execute_result"
    }
   ],
   "source": [
    "device = torch.device(\"cuda:2\")\n",
    "# device = torch.device(\"cpu\")\n",
    "device"
   ]
  },
  {
   "cell_type": "code",
   "execution_count": 4,
   "id": "6fba812f",
   "metadata": {},
   "outputs": [],
   "source": [
    "from utils import TestbedDataset\n",
    "from models import GATNet_E, GATNet, GCNNet"
   ]
  },
  {
   "cell_type": "code",
   "execution_count": 7,
   "id": "9f705736",
   "metadata": {},
   "outputs": [
    {
     "data": {
      "text/plain": [
       "<All keys matched successfully>"
      ]
     },
     "execution_count": 7,
     "metadata": {},
     "output_type": "execute_result"
    }
   ],
   "source": [
    "model = GATNet()\n",
    "model_path = 'root_folder/root_004/models/model_GAT-EP300-SW801010_GDSC.model'\n",
    "\n",
    "# model = GCNNet()\n",
    "# model_path = 'root_folder/root_003/models/model_GCN-EP300-SW801010_GDSC.model'\n",
    "model.load_state_dict(torch.load(model_path, map_location=device))"
   ]
  },
  {
   "cell_type": "code",
   "execution_count": 21,
   "id": "7a57a717",
   "metadata": {},
   "outputs": [
    {
     "name": "stdout",
     "output_type": "stream",
     "text": [
      "GATNet(\n",
      "  (gcn1): GATConv(192, 192, heads=10)\n",
      "  (gcn2): GATConv(1920, 128, heads=1)\n",
      "  (fc_g1): Linear(in_features=128, out_features=128, bias=True)\n",
      "  (conv_xt_1): Conv1d(1, 32, kernel_size=(8,), stride=(1,))\n",
      "  (pool_xt_1): MaxPool1d(kernel_size=3, stride=3, padding=0, dilation=1, ceil_mode=False)\n",
      "  (conv_xt_2): Conv1d(32, 64, kernel_size=(8,), stride=(1,))\n",
      "  (pool_xt_2): MaxPool1d(kernel_size=3, stride=3, padding=0, dilation=1, ceil_mode=False)\n",
      "  (conv_xt_3): Conv1d(64, 128, kernel_size=(8,), stride=(1,))\n",
      "  (pool_xt_3): MaxPool1d(kernel_size=3, stride=3, padding=0, dilation=1, ceil_mode=False)\n",
      "  (fc1_xt): Linear(in_features=2944, out_features=128, bias=True)\n",
      "  (fc1): Linear(in_features=256, out_features=1024, bias=True)\n",
      "  (fc2): Linear(in_features=1024, out_features=128, bias=True)\n",
      "  (out): Linear(in_features=128, out_features=1, bias=True)\n",
      "  (relu): ReLU()\n",
      "  (dropout): Dropout(p=0.5, inplace=False)\n",
      ")\n"
     ]
    }
   ],
   "source": [
    "print(model)"
   ]
  },
  {
   "cell_type": "code",
   "execution_count": 8,
   "id": "06839c88",
   "metadata": {},
   "outputs": [
    {
     "name": "stdout",
     "output_type": "stream",
     "text": [
      "Pre-processed data found: root_folder/root_004/processed/GDSC_test_mix.pt, loading ...\n"
     ]
    }
   ],
   "source": [
    "branch_folder = \"root_folder/root_004\"\n",
    "dataset = 'GDSC'\n",
    "test_data = TestbedDataset(root=branch_folder, dataset=dataset+'_test_mix')"
   ]
  },
  {
   "cell_type": "code",
   "execution_count": 9,
   "id": "b8f16f4c",
   "metadata": {},
   "outputs": [],
   "source": [
    "test_batch = 1\n",
    "test_loader = DataLoader(test_data, batch_size=test_batch, shuffle=False)"
   ]
  },
  {
   "cell_type": "code",
   "execution_count": 31,
   "id": "4b00f724",
   "metadata": {},
   "outputs": [
    {
     "data": {
      "text/plain": [
       "DataBatch(x=[28, 192], edge_index=[2, 60], y=[1], edge_features=[60, 4], smiles=[1], drug_name=[1], cell_line_name=[1], target=[1, 735], c_size=[1], batch=[28], ptr=[2])"
      ]
     },
     "execution_count": 31,
     "metadata": {},
     "output_type": "execute_result"
    }
   ],
   "source": [
    "next(iter(test_loader))"
   ]
  },
  {
   "cell_type": "code",
   "execution_count": 22,
   "id": "e44637f2",
   "metadata": {},
   "outputs": [
    {
     "name": "stdout",
     "output_type": "stream",
     "text": [
      "DataBatch(x=[28, 192], edge_index=[2, 60], y=[1], edge_features=[60, 4], smiles=[1], drug_name=[1], cell_line_name=[1], target=[1, 735], c_size=[1], batch=[28], ptr=[2])\n",
      "DataBatch(x=[59, 192], edge_index=[2, 134], y=[1], edge_features=[134, 4], smiles=[1], drug_name=[1], cell_line_name=[1], target=[1, 735], c_size=[1], batch=[59], ptr=[2])\n",
      "DataBatch(x=[30, 192], edge_index=[2, 66], y=[1], edge_features=[66, 4], smiles=[1], drug_name=[1], cell_line_name=[1], target=[1, 735], c_size=[1], batch=[30], ptr=[2])\n",
      "DataBatch(x=[33, 192], edge_index=[2, 72], y=[1], edge_features=[72, 4], smiles=[1], drug_name=[1], cell_line_name=[1], target=[1, 735], c_size=[1], batch=[33], ptr=[2])\n",
      "DataBatch(x=[38, 192], edge_index=[2, 80], y=[1], edge_features=[80, 4], smiles=[1], drug_name=[1], cell_line_name=[1], target=[1, 735], c_size=[1], batch=[38], ptr=[2])\n"
     ]
    }
   ],
   "source": [
    "i = 0\n",
    "for data in test_loader:\n",
    "    i += 1\n",
    "    print(data)\n",
    "    if i >= 5:\n",
    "        break"
   ]
  },
  {
   "cell_type": "code",
   "execution_count": 10,
   "id": "03514133",
   "metadata": {},
   "outputs": [],
   "source": [
    "from torch_geometric.nn import GNNExplainer"
   ]
  },
  {
   "cell_type": "code",
   "execution_count": 18,
   "id": "f7737dcc",
   "metadata": {
    "scrolled": false
   },
   "outputs": [
    {
     "name": "stdout",
     "output_type": "stream",
     "text": [
      "DataBatch(x=[28, 192], edge_index=[2, 60], y=[1], edge_features=[60, 4], smiles=[1], drug_name=[1], cell_line_name=[1], target=[1, 735], c_size=[1], batch=[28], ptr=[2])\n"
     ]
    },
    {
     "ename": "TypeError",
     "evalue": "forward() got multiple values for argument 'x_cell_mut'",
     "output_type": "error",
     "traceback": [
      "\u001b[0;31m---------------------------------------------------------------------------\u001b[0m",
      "\u001b[0;31mTypeError\u001b[0m                                 Traceback (most recent call last)",
      "Input \u001b[0;32mIn [18]\u001b[0m, in \u001b[0;36m<cell line: 27>\u001b[0;34m()\u001b[0m\n\u001b[1;32m     20\u001b[0m kwargs \u001b[38;5;241m=\u001b[39m {\n\u001b[1;32m     21\u001b[0m     \u001b[38;5;124m\"\u001b[39m\u001b[38;5;124mx_cell_mut\u001b[39m\u001b[38;5;124m\"\u001b[39m: x_cell_mut,\n\u001b[1;32m     22\u001b[0m     \u001b[38;5;124m\"\u001b[39m\u001b[38;5;124mbatch_drug\u001b[39m\u001b[38;5;124m\"\u001b[39m: batch_drug,\n\u001b[1;32m     23\u001b[0m     \u001b[38;5;124m\"\u001b[39m\u001b[38;5;124medge_features\u001b[39m\u001b[38;5;124m\"\u001b[39m: edge_features\n\u001b[1;32m     24\u001b[0m }\n\u001b[1;32m     26\u001b[0m \u001b[38;5;66;03m# node_feature_mask, edge_mask = explainer.explain_graph(x = x, edge_index = edge_index, x_cell_mut = x_cell_mut, batch_drug = batch_drug, edge_feat = edge_features)\u001b[39;00m\n\u001b[0;32m---> 27\u001b[0m node_feature_mask, edge_mask \u001b[38;5;241m=\u001b[39m \u001b[43mexplainer\u001b[49m\u001b[38;5;241;43m.\u001b[39;49m\u001b[43mexplain_graph\u001b[49m\u001b[43m(\u001b[49m\u001b[43mx\u001b[49m\u001b[43m,\u001b[49m\u001b[43m \u001b[49m\u001b[43medge_index\u001b[49m\u001b[43m,\u001b[49m\u001b[43m \u001b[49m\u001b[38;5;241;43m*\u001b[39;49m\u001b[38;5;241;43m*\u001b[39;49m\u001b[43mkwargs\u001b[49m\u001b[43m)\u001b[49m\n\u001b[1;32m     28\u001b[0m ax, G \u001b[38;5;241m=\u001b[39m explainer\u001b[38;5;241m.\u001b[39mvisualize_subgraph(edge_index, edge_mask, y\u001b[38;5;241m=\u001b[39my)\n",
      "File \u001b[0;32m/data/conghao001/anaconda3/envs/gnndrug/lib/python3.8/site-packages/torch_geometric/nn/models/gnn_explainer.py:143\u001b[0m, in \u001b[0;36mGNNExplainer.explain_graph\u001b[0;34m(self, x, edge_index, **kwargs)\u001b[0m\n\u001b[1;32m    140\u001b[0m batch \u001b[38;5;241m=\u001b[39m torch\u001b[38;5;241m.\u001b[39mzeros(x\u001b[38;5;241m.\u001b[39mshape[\u001b[38;5;241m0\u001b[39m], dtype\u001b[38;5;241m=\u001b[39m\u001b[38;5;28mint\u001b[39m, device\u001b[38;5;241m=\u001b[39mx\u001b[38;5;241m.\u001b[39mdevice)\n\u001b[1;32m    142\u001b[0m \u001b[38;5;66;03m# Get the initial prediction.\u001b[39;00m\n\u001b[0;32m--> 143\u001b[0m prediction \u001b[38;5;241m=\u001b[39m \u001b[38;5;28;43mself\u001b[39;49m\u001b[38;5;241;43m.\u001b[39;49m\u001b[43mget_initial_prediction\u001b[49m\u001b[43m(\u001b[49m\u001b[43mx\u001b[49m\u001b[43m,\u001b[49m\u001b[43m \u001b[49m\u001b[43medge_index\u001b[49m\u001b[43m,\u001b[49m\u001b[43m \u001b[49m\u001b[43mbatch\u001b[49m\u001b[38;5;241;43m=\u001b[39;49m\u001b[43mbatch\u001b[49m\u001b[43m,\u001b[49m\n\u001b[1;32m    144\u001b[0m \u001b[43m                                         \u001b[49m\u001b[38;5;241;43m*\u001b[39;49m\u001b[38;5;241;43m*\u001b[39;49m\u001b[43mkwargs\u001b[49m\u001b[43m)\u001b[49m\n\u001b[1;32m    146\u001b[0m \u001b[38;5;28mself\u001b[39m\u001b[38;5;241m.\u001b[39m_initialize_masks(x, edge_index)\n\u001b[1;32m    147\u001b[0m \u001b[38;5;28mself\u001b[39m\u001b[38;5;241m.\u001b[39mto(x\u001b[38;5;241m.\u001b[39mdevice)\n",
      "File \u001b[0;32m/data/conghao001/anaconda3/envs/gnndrug/lib/python3.8/site-packages/torch/autograd/grad_mode.py:28\u001b[0m, in \u001b[0;36m_DecoratorContextManager.__call__.<locals>.decorate_context\u001b[0;34m(*args, **kwargs)\u001b[0m\n\u001b[1;32m     25\u001b[0m \u001b[38;5;129m@functools\u001b[39m\u001b[38;5;241m.\u001b[39mwraps(func)\n\u001b[1;32m     26\u001b[0m \u001b[38;5;28;01mdef\u001b[39;00m \u001b[38;5;21mdecorate_context\u001b[39m(\u001b[38;5;241m*\u001b[39margs, \u001b[38;5;241m*\u001b[39m\u001b[38;5;241m*\u001b[39mkwargs):\n\u001b[1;32m     27\u001b[0m     \u001b[38;5;28;01mwith\u001b[39;00m \u001b[38;5;28mself\u001b[39m\u001b[38;5;241m.\u001b[39m\u001b[38;5;18m__class__\u001b[39m():\n\u001b[0;32m---> 28\u001b[0m         \u001b[38;5;28;01mreturn\u001b[39;00m \u001b[43mfunc\u001b[49m\u001b[43m(\u001b[49m\u001b[38;5;241;43m*\u001b[39;49m\u001b[43margs\u001b[49m\u001b[43m,\u001b[49m\u001b[43m \u001b[49m\u001b[38;5;241;43m*\u001b[39;49m\u001b[38;5;241;43m*\u001b[39;49m\u001b[43mkwargs\u001b[49m\u001b[43m)\u001b[49m\n",
      "File \u001b[0;32m/data/conghao001/anaconda3/envs/gnndrug/lib/python3.8/site-packages/torch_geometric/nn/models/explainer.py:233\u001b[0m, in \u001b[0;36mExplainer.get_initial_prediction\u001b[0;34m(self, x, edge_index, batch, **kwargs)\u001b[0m\n\u001b[1;32m    229\u001b[0m \u001b[38;5;129m@torch\u001b[39m\u001b[38;5;241m.\u001b[39mno_grad()\n\u001b[1;32m    230\u001b[0m \u001b[38;5;28;01mdef\u001b[39;00m \u001b[38;5;21mget_initial_prediction\u001b[39m(\u001b[38;5;28mself\u001b[39m, x: Tensor, edge_index: Tensor,\n\u001b[1;32m    231\u001b[0m                            batch: Optional[Tensor] \u001b[38;5;241m=\u001b[39m \u001b[38;5;28;01mNone\u001b[39;00m, \u001b[38;5;241m*\u001b[39m\u001b[38;5;241m*\u001b[39mkwargs):\n\u001b[1;32m    232\u001b[0m     \u001b[38;5;28;01mif\u001b[39;00m batch \u001b[38;5;129;01mis\u001b[39;00m \u001b[38;5;129;01mnot\u001b[39;00m \u001b[38;5;28;01mNone\u001b[39;00m:\n\u001b[0;32m--> 233\u001b[0m         out \u001b[38;5;241m=\u001b[39m \u001b[38;5;28;43mself\u001b[39;49m\u001b[38;5;241;43m.\u001b[39;49m\u001b[43mmodel\u001b[49m\u001b[43m(\u001b[49m\u001b[43mx\u001b[49m\u001b[43m,\u001b[49m\u001b[43m \u001b[49m\u001b[43medge_index\u001b[49m\u001b[43m,\u001b[49m\u001b[43m \u001b[49m\u001b[43mbatch\u001b[49m\u001b[43m,\u001b[49m\u001b[43m \u001b[49m\u001b[38;5;241;43m*\u001b[39;49m\u001b[38;5;241;43m*\u001b[39;49m\u001b[43mkwargs\u001b[49m\u001b[43m)\u001b[49m\n\u001b[1;32m    234\u001b[0m     \u001b[38;5;28;01melse\u001b[39;00m:\n\u001b[1;32m    235\u001b[0m         out \u001b[38;5;241m=\u001b[39m \u001b[38;5;28mself\u001b[39m\u001b[38;5;241m.\u001b[39mmodel(x, edge_index, \u001b[38;5;241m*\u001b[39m\u001b[38;5;241m*\u001b[39mkwargs)\n",
      "File \u001b[0;32m/data/conghao001/anaconda3/envs/gnndrug/lib/python3.8/site-packages/torch/nn/modules/module.py:1102\u001b[0m, in \u001b[0;36mModule._call_impl\u001b[0;34m(self, *input, **kwargs)\u001b[0m\n\u001b[1;32m   1098\u001b[0m \u001b[38;5;66;03m# If we don't have any hooks, we want to skip the rest of the logic in\u001b[39;00m\n\u001b[1;32m   1099\u001b[0m \u001b[38;5;66;03m# this function, and just call forward.\u001b[39;00m\n\u001b[1;32m   1100\u001b[0m \u001b[38;5;28;01mif\u001b[39;00m \u001b[38;5;129;01mnot\u001b[39;00m (\u001b[38;5;28mself\u001b[39m\u001b[38;5;241m.\u001b[39m_backward_hooks \u001b[38;5;129;01mor\u001b[39;00m \u001b[38;5;28mself\u001b[39m\u001b[38;5;241m.\u001b[39m_forward_hooks \u001b[38;5;129;01mor\u001b[39;00m \u001b[38;5;28mself\u001b[39m\u001b[38;5;241m.\u001b[39m_forward_pre_hooks \u001b[38;5;129;01mor\u001b[39;00m _global_backward_hooks\n\u001b[1;32m   1101\u001b[0m         \u001b[38;5;129;01mor\u001b[39;00m _global_forward_hooks \u001b[38;5;129;01mor\u001b[39;00m _global_forward_pre_hooks):\n\u001b[0;32m-> 1102\u001b[0m     \u001b[38;5;28;01mreturn\u001b[39;00m \u001b[43mforward_call\u001b[49m\u001b[43m(\u001b[49m\u001b[38;5;241;43m*\u001b[39;49m\u001b[38;5;28;43minput\u001b[39;49m\u001b[43m,\u001b[49m\u001b[43m \u001b[49m\u001b[38;5;241;43m*\u001b[39;49m\u001b[38;5;241;43m*\u001b[39;49m\u001b[43mkwargs\u001b[49m\u001b[43m)\u001b[49m\n\u001b[1;32m   1103\u001b[0m \u001b[38;5;66;03m# Do not call functions when jit is used\u001b[39;00m\n\u001b[1;32m   1104\u001b[0m full_backward_hooks, non_full_backward_hooks \u001b[38;5;241m=\u001b[39m [], []\n",
      "\u001b[0;31mTypeError\u001b[0m: forward() got multiple values for argument 'x_cell_mut'"
     ]
    }
   ],
   "source": [
    "# test one drug\n",
    "data = next(iter(test_loader))\n",
    "print(data)\n",
    "\n",
    "explainer = GNNExplainer(model, lr=1e-4, epochs=300)\n",
    "\n",
    "x = data.x\n",
    "edge_index = data.edge_index\n",
    "y = data.y\n",
    "batch_drug = data.batch\n",
    "edge_features = data.edge_features\n",
    "x_cell_mut = data.target\n",
    "\n",
    "# model_args = (\n",
    "#     x_cell_mut,\n",
    "#     batch_drug,\n",
    "#     edge_features\n",
    "# )\n",
    "\n",
    "kwargs = {\n",
    "    \"x_cell_mut\": x_cell_mut,\n",
    "    \"batch_drug\": batch_drug,\n",
    "    \"edge_features\": edge_features\n",
    "}\n",
    "\n",
    "# node_feature_mask, edge_mask = explainer.explain_graph(x = x, edge_index = edge_index, x_cell_mut = x_cell_mut, batch_drug = batch_drug, edge_feat = edge_features)\n",
    "node_feature_mask, edge_mask = explainer.explain_graph(x, edge_index, **kwargs)\n",
    "ax, G = explainer.visualize_subgraph(edge_index, edge_mask, y=y)"
   ]
  },
  {
   "cell_type": "code",
   "execution_count": 42,
   "id": "1a9636ba",
   "metadata": {},
   "outputs": [
    {
     "ename": "TypeError",
     "evalue": "get_initial_prediction() got multiple values for keyword argument 'batch'",
     "output_type": "error",
     "traceback": [
      "\u001b[0;31m---------------------------------------------------------------------------\u001b[0m",
      "\u001b[0;31mTypeError\u001b[0m                                 Traceback (most recent call last)",
      "Input \u001b[0;32mIn [42]\u001b[0m, in \u001b[0;36m<cell line: 3>\u001b[0;34m()\u001b[0m\n\u001b[1;32m      8\u001b[0m edge_features \u001b[38;5;241m=\u001b[39m data\u001b[38;5;241m.\u001b[39medge_features\n\u001b[1;32m      9\u001b[0m target \u001b[38;5;241m=\u001b[39m data\u001b[38;5;241m.\u001b[39mtarget\n\u001b[0;32m---> 11\u001b[0m node_feature_mask, edge_mask \u001b[38;5;241m=\u001b[39m \u001b[43mexplainer\u001b[49m\u001b[38;5;241;43m.\u001b[39;49m\u001b[43mexplain_graph\u001b[49m\u001b[43m(\u001b[49m\u001b[43mx\u001b[49m\u001b[43m,\u001b[49m\u001b[43m \u001b[49m\u001b[43medge_index\u001b[49m\u001b[43m,\u001b[49m\u001b[43m \u001b[49m\u001b[43mbatch\u001b[49m\u001b[38;5;241;43m=\u001b[39;49m\u001b[43mbatch\u001b[49m\u001b[43m,\u001b[49m\u001b[43m \u001b[49m\u001b[43medge_feat\u001b[49m\u001b[43m \u001b[49m\u001b[38;5;241;43m=\u001b[39;49m\u001b[43m \u001b[49m\u001b[43medge_features\u001b[49m\u001b[43m)\u001b[49m\n\u001b[1;32m     12\u001b[0m ax, G \u001b[38;5;241m=\u001b[39m explainer\u001b[38;5;241m.\u001b[39mvisualize_subgraph(edge_index, edge_mask, y\u001b[38;5;241m=\u001b[39my)\n",
      "File \u001b[0;32m/data/conghao001/anaconda3/envs/gnndrug/lib/python3.8/site-packages/torch_geometric/nn/models/gnn_explainer.py:143\u001b[0m, in \u001b[0;36mGNNExplainer.explain_graph\u001b[0;34m(self, x, edge_index, **kwargs)\u001b[0m\n\u001b[1;32m    140\u001b[0m batch \u001b[38;5;241m=\u001b[39m torch\u001b[38;5;241m.\u001b[39mzeros(x\u001b[38;5;241m.\u001b[39mshape[\u001b[38;5;241m0\u001b[39m], dtype\u001b[38;5;241m=\u001b[39m\u001b[38;5;28mint\u001b[39m, device\u001b[38;5;241m=\u001b[39mx\u001b[38;5;241m.\u001b[39mdevice)\n\u001b[1;32m    142\u001b[0m \u001b[38;5;66;03m# Get the initial prediction.\u001b[39;00m\n\u001b[0;32m--> 143\u001b[0m prediction \u001b[38;5;241m=\u001b[39m \u001b[38;5;28mself\u001b[39m\u001b[38;5;241m.\u001b[39mget_initial_prediction(x, edge_index, batch\u001b[38;5;241m=\u001b[39mbatch,\n\u001b[1;32m    144\u001b[0m                                          \u001b[38;5;241m*\u001b[39m\u001b[38;5;241m*\u001b[39mkwargs)\n\u001b[1;32m    146\u001b[0m \u001b[38;5;28mself\u001b[39m\u001b[38;5;241m.\u001b[39m_initialize_masks(x, edge_index)\n\u001b[1;32m    147\u001b[0m \u001b[38;5;28mself\u001b[39m\u001b[38;5;241m.\u001b[39mto(x\u001b[38;5;241m.\u001b[39mdevice)\n",
      "\u001b[0;31mTypeError\u001b[0m: get_initial_prediction() got multiple values for keyword argument 'batch'"
     ]
    }
   ],
   "source": [
    "explainer = GNNExplainer(model, lr=1e-4, epochs=300)\n",
    "\n",
    "for data in test_loader:\n",
    "    x = data.x\n",
    "    edge_index = data.edge_index\n",
    "    y = data.y\n",
    "    batch = data.batch\n",
    "    edge_features = data.edge_features\n",
    "    target = data.target\n",
    "    \n",
    "    node_feature_mask, edge_mask = explainer.explain_graph(x, edge_index, batch=batch, edge_feat = edge_features)\n",
    "    ax, G = explainer.visualize_subgraph(edge_index, edge_mask, y=y)"
   ]
  },
  {
   "cell_type": "code",
   "execution_count": null,
   "id": "0656cd4f",
   "metadata": {},
   "outputs": [],
   "source": []
  }
 ],
 "metadata": {
  "kernelspec": {
   "display_name": "gnn drug",
   "language": "python",
   "name": "gnndrug"
  },
  "language_info": {
   "codemirror_mode": {
    "name": "ipython",
    "version": 3
   },
   "file_extension": ".py",
   "mimetype": "text/x-python",
   "name": "python",
   "nbconvert_exporter": "python",
   "pygments_lexer": "ipython3",
   "version": "3.8.13"
  }
 },
 "nbformat": 4,
 "nbformat_minor": 5
}
