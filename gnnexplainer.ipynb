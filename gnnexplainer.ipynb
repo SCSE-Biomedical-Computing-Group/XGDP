{
 "cells": [
  {
   "cell_type": "code",
   "execution_count": 1,
   "id": "e22d4252",
   "metadata": {},
   "outputs": [
    {
     "name": "stderr",
     "output_type": "stream",
     "text": [
      "/data/conghao001/anaconda3/envs/gnndrug/lib/python3.8/site-packages/tqdm/auto.py:22: TqdmWarning: IProgress not found. Please update jupyter and ipywidgets. See https://ipywidgets.readthedocs.io/en/stable/user_install.html\n",
      "  from .autonotebook import tqdm as notebook_tqdm\n"
     ]
    }
   ],
   "source": [
    "from torch_geometric.loader import DataLoader\n",
    "import torch\n",
    "import numpy as np\n",
    "import pandas as pd\n",
    "import matplotlib.pyplot as plt\n",
    "import networkx as nx"
   ]
  },
  {
   "cell_type": "code",
   "execution_count": 2,
   "id": "d1fa4584",
   "metadata": {},
   "outputs": [
    {
     "data": {
      "text/plain": [
       "'1.11.0'"
      ]
     },
     "execution_count": 2,
     "metadata": {},
     "output_type": "execute_result"
    }
   ],
   "source": [
    "torch.__version__"
   ]
  },
  {
   "cell_type": "code",
   "execution_count": 3,
   "id": "91b3b84b",
   "metadata": {},
   "outputs": [
    {
     "data": {
      "text/plain": [
       "device(type='cpu')"
      ]
     },
     "execution_count": 3,
     "metadata": {},
     "output_type": "execute_result"
    }
   ],
   "source": [
    "# device = torch.device(\"cuda:0\")\n",
    "device = torch.device(\"cpu\")\n",
    "device"
   ]
  },
  {
   "cell_type": "code",
   "execution_count": 4,
   "id": "6fba812f",
   "metadata": {},
   "outputs": [],
   "source": [
    "from utils_data import TestbedDataset\n",
    "from models import GATNet_E, GATNet, GCNNet"
   ]
  },
  {
   "cell_type": "code",
   "execution_count": 5,
   "id": "9f705736",
   "metadata": {},
   "outputs": [
    {
     "data": {
      "text/plain": [
       "GATNet(\n",
       "  (gcn1): GATConv(334, 334, heads=10)\n",
       "  (gcn2): GATConv(3340, 128, heads=1)\n",
       "  (fc_g1): Linear(in_features=128, out_features=128, bias=True)\n",
       "  (conv_xt_1): Conv1d(1, 32, kernel_size=(8,), stride=(1,))\n",
       "  (pool_xt_1): MaxPool1d(kernel_size=3, stride=3, padding=0, dilation=1, ceil_mode=False)\n",
       "  (conv_xt_2): Conv1d(32, 64, kernel_size=(8,), stride=(1,))\n",
       "  (pool_xt_2): MaxPool1d(kernel_size=3, stride=3, padding=0, dilation=1, ceil_mode=False)\n",
       "  (conv_xt_3): Conv1d(64, 128, kernel_size=(8,), stride=(1,))\n",
       "  (pool_xt_3): MaxPool1d(kernel_size=3, stride=3, padding=0, dilation=1, ceil_mode=False)\n",
       "  (fc1_xt): Linear(in_features=2944, out_features=128, bias=True)\n",
       "  (fc1): Linear(in_features=256, out_features=1024, bias=True)\n",
       "  (fc2): Linear(in_features=1024, out_features=128, bias=True)\n",
       "  (out): Linear(in_features=128, out_features=1, bias=True)\n",
       "  (relu): ReLU()\n",
       "  (dropout): Dropout(p=0.5, inplace=False)\n",
       ")"
      ]
     },
     "execution_count": 5,
     "metadata": {},
     "output_type": "execute_result"
    }
   ],
   "source": [
    "model = GATNet()\n",
    "model_path = 'root_folder/root_017/models/model_GAT-EP300-SW801010_GDSC.model'\n",
    "\n",
    "# model = GCNNet()\n",
    "# model_path = 'root_folder/root_003/models/model_GCN-EP300-SW801010_GDSC.model'\n",
    "model.load_state_dict(torch.load(model_path, map_location=device))\n",
    "model.to(device)"
   ]
  },
  {
   "cell_type": "code",
   "execution_count": 6,
   "id": "06839c88",
   "metadata": {},
   "outputs": [
    {
     "name": "stdout",
     "output_type": "stream",
     "text": [
      "Pre-processed data found: root_folder/root_017/processed/GDSC_test_mix.pt, loading ...\n"
     ]
    }
   ],
   "source": [
    "branch_folder = \"root_folder/root_017\"\n",
    "dataset = 'GDSC'\n",
    "test_data = TestbedDataset(root=branch_folder, dataset=dataset+'_test_mix')"
   ]
  },
  {
   "cell_type": "code",
   "execution_count": 7,
   "id": "b8f16f4c",
   "metadata": {},
   "outputs": [],
   "source": [
    "test_batch = 1\n",
    "test_loader = DataLoader(test_data, batch_size=test_batch, shuffle=False)"
   ]
  },
  {
   "cell_type": "code",
   "execution_count": 8,
   "id": "e44637f2",
   "metadata": {},
   "outputs": [
    {
     "name": "stdout",
     "output_type": "stream",
     "text": [
      "DataBatch(x=[32, 334], edge_index=[2, 74], y=[1], edge_features=[74, 4], smiles=[1], drug_name=[1], cell_line_name=[1], target=[1, 735], c_size=[1], batch=[32], ptr=[2])\n",
      "DataBatch(x=[27, 334], edge_index=[2, 60], y=[1], edge_features=[60, 4], smiles=[1], drug_name=[1], cell_line_name=[1], target=[1, 735], c_size=[1], batch=[27], ptr=[2])\n",
      "DataBatch(x=[29, 334], edge_index=[2, 64], y=[1], edge_features=[64, 4], smiles=[1], drug_name=[1], cell_line_name=[1], target=[1, 735], c_size=[1], batch=[29], ptr=[2])\n",
      "DataBatch(x=[37, 334], edge_index=[2, 80], y=[1], edge_features=[80, 4], smiles=[1], drug_name=[1], cell_line_name=[1], target=[1, 735], c_size=[1], batch=[37], ptr=[2])\n",
      "DataBatch(x=[31, 334], edge_index=[2, 68], y=[1], edge_features=[68, 4], smiles=[1], drug_name=[1], cell_line_name=[1], target=[1, 735], c_size=[1], batch=[31], ptr=[2])\n"
     ]
    }
   ],
   "source": [
    "i = 0\n",
    "for data in test_loader:\n",
    "    i += 1\n",
    "    print(data)\n",
    "    if i >= 5:\n",
    "        break"
   ]
  },
  {
   "cell_type": "code",
   "execution_count": 8,
   "id": "03514133",
   "metadata": {},
   "outputs": [],
   "source": [
    "from torch_geometric.nn import GNNExplainer"
   ]
  },
  {
   "cell_type": "code",
   "execution_count": 9,
   "id": "f7737dcc",
   "metadata": {
    "scrolled": false
   },
   "outputs": [
    {
     "name": "stdout",
     "output_type": "stream",
     "text": [
      "DataBatch(x=[32, 334], edge_index=[2, 74], y=[1], edge_features=[74, 4], smiles=[1], drug_name=[1], cell_line_name=[1], target=[1, 735], c_size=[1], batch=[32], ptr=[2])\n"
     ]
    },
    {
     "name": "stderr",
     "output_type": "stream",
     "text": [
      "Explain graph: 100%|██████████████████████████| 300/300 [00:03<00:00, 82.93it/s]\n"
     ]
    }
   ],
   "source": [
    "# test one drug\n",
    "one = next(iter(test_loader))\n",
    "data = one.to(device)\n",
    "print(data)\n",
    "\n",
    "explainer = GNNExplainer(model, lr=1e-4, epochs=300, return_type='regression')\n",
    "\n",
    "x = data.x\n",
    "edge_index = data.edge_index\n",
    "y = data.y\n",
    "batch_drug = data.batch\n",
    "edge_features = data.edge_features\n",
    "x_cell_mut = data.target\n",
    "\n",
    "# model_args = (\n",
    "#     x_cell_mut,\n",
    "#     batch_drug,\n",
    "#     edge_features\n",
    "# )\n",
    "\n",
    "kwargs = {\n",
    "    \"x_cell_mut\": x_cell_mut,\n",
    "    \"batch_drug\": batch_drug,\n",
    "    \"edge_feat\": edge_features\n",
    "}\n",
    "\n",
    "node_feature_mask, edge_mask = explainer.explain_graph(x = x, edge_index = edge_index, x_cell_mut = x_cell_mut, edge_feat = edge_features)\n",
    "# node_feature_mask, edge_mask = explainer.explain_graph(x, edge_index, **kwargs)\n"
   ]
  },
  {
   "cell_type": "markdown",
   "id": "b04bafbb",
   "metadata": {},
   "source": [
    "- node_feature_mask: size = node feature length (334/...), importance of each node feature (invariant of atoms)\n",
    "- edge_mask: size = edge number, importance of edges, stored in the sequence of edge_index (0,1),(0,5),(1,..."
   ]
  },
  {
   "cell_type": "code",
   "execution_count": 11,
   "id": "85036fc6",
   "metadata": {},
   "outputs": [
    {
     "data": {
      "text/plain": [
       "tensor([[ 0,  0,  1,  1,  2,  2,  2,  3,  3,  4,  4,  5,  5,  5,  6,  6,  6,  7,\n",
       "          7,  8,  8,  9,  9, 10, 10, 10, 11, 11, 11, 12, 12, 13, 13, 13, 14, 14,\n",
       "         15, 15, 16, 16, 17, 17, 18, 18, 18, 19, 19, 19, 20, 21, 21, 22, 22, 23,\n",
       "         23, 23, 24, 24, 25, 25, 25, 26, 26, 26, 27, 27, 28, 28, 29, 29, 30, 30,\n",
       "         31, 31],\n",
       "        [ 1,  5,  0,  2,  1,  3, 19,  2,  4,  3,  5,  4,  6,  0,  5,  7, 11,  6,\n",
       "          8,  7,  9,  8, 10,  9, 11, 18, 10, 12,  6, 11, 13, 12, 14, 18, 13, 15,\n",
       "         14, 16, 15, 17, 16, 18, 17, 10, 13,  2, 20, 21, 19, 19, 22, 21, 23, 22,\n",
       "         24, 28, 23, 25, 24, 26, 31, 25, 27, 29, 26, 28, 27, 23, 26, 30, 29, 31,\n",
       "         30, 25]])"
      ]
     },
     "execution_count": 11,
     "metadata": {},
     "output_type": "execute_result"
    }
   ],
   "source": [
    "one.edge_index"
   ]
  },
  {
   "cell_type": "code",
   "execution_count": 10,
   "id": "67525f27",
   "metadata": {},
   "outputs": [
    {
     "data": {
      "text/plain": [
       "tensor([0.4089, 0.4827, 0.5230, 0.4317, 0.5437, 0.5301, 0.5416, 0.4005, 0.4986,\n",
       "        0.4460, 0.4047, 0.4860, 0.5057, 0.5378, 0.4207, 0.4583, 0.5559, 0.5676,\n",
       "        0.4371, 0.4206, 0.4796, 0.4704, 0.5336, 0.3228, 0.4205, 0.4748, 0.5110,\n",
       "        0.4430, 0.5064, 0.4585, 0.5214, 0.4911, 0.4276, 0.5088, 0.5167, 0.5674,\n",
       "        0.5370, 0.6108, 0.3093, 0.5239, 0.5447, 0.4414, 0.4575, 0.4104, 0.4880,\n",
       "        0.5623, 0.5341, 0.4896, 0.4547, 0.5424, 0.5491, 0.4166, 0.5507, 0.4478,\n",
       "        0.3697, 0.5681, 0.5381, 0.3626, 0.3220, 0.4830, 0.5185, 0.5683, 0.4786,\n",
       "        0.4825, 0.4875, 0.4155, 0.4686, 0.4183, 0.3435, 0.5664, 0.4905, 0.4696,\n",
       "        0.5161, 0.4683])"
      ]
     },
     "execution_count": 10,
     "metadata": {},
     "output_type": "execute_result"
    }
   ],
   "source": [
    "edge_mask"
   ]
  },
  {
   "cell_type": "code",
   "execution_count": 11,
   "id": "56aa46eb",
   "metadata": {
    "scrolled": true
   },
   "outputs": [
    {
     "data": {
      "text/plain": [
       "tensor([0.5058, 0.4664, 0.5176, 0.4677, 0.4646, 0.4935, 0.5168, 0.4917, 0.5293,\n",
       "        0.5053, 0.4949, 0.4693, 0.4824, 0.5203, 0.4581, 0.5371, 0.5064, 0.4963,\n",
       "        0.5075, 0.4280, 0.4659, 0.4695, 0.5135, 0.4807, 0.4800, 0.4976, 0.5225,\n",
       "        0.4719, 0.4355, 0.4825, 0.4740, 0.4513, 0.4967, 0.4812, 0.5243, 0.5013,\n",
       "        0.4894, 0.4608, 0.4523, 0.4653, 0.5151, 0.5128, 0.5069, 0.5117, 0.5068,\n",
       "        0.4737, 0.4943, 0.5064, 0.4931, 0.4808, 0.4890, 0.4966, 0.4981, 0.5064,\n",
       "        0.4589, 0.5271, 0.5027, 0.4842, 0.4689, 0.4740, 0.5444, 0.4930, 0.4937,\n",
       "        0.5052, 0.4623, 0.4581, 0.4601, 0.4924, 0.5262, 0.4463, 0.5105, 0.5203,\n",
       "        0.4718, 0.4934, 0.4950, 0.4806, 0.5091, 0.4788, 0.4406, 0.4482, 0.4787,\n",
       "        0.5246, 0.4677, 0.4546, 0.4684, 0.5429, 0.4843, 0.5267, 0.4882, 0.5055,\n",
       "        0.4990, 0.4724, 0.4546, 0.5099, 0.4830, 0.5404, 0.5216, 0.4683, 0.4489,\n",
       "        0.4904, 0.4495, 0.4842, 0.4738, 0.4521, 0.5036, 0.4819, 0.5033, 0.4724,\n",
       "        0.5120, 0.4768, 0.4922, 0.4860, 0.4690, 0.5159, 0.4798, 0.4743, 0.4749,\n",
       "        0.4557, 0.4713, 0.4907, 0.5044, 0.4806, 0.4453, 0.4604, 0.4972, 0.4697,\n",
       "        0.5172, 0.5022, 0.4959, 0.4436, 0.5385, 0.5229, 0.5018, 0.5180, 0.4508,\n",
       "        0.4801, 0.4769, 0.4600, 0.5244, 0.4919, 0.5522, 0.5264, 0.4938, 0.4762,\n",
       "        0.4867, 0.5190, 0.5262, 0.4687, 0.4865, 0.4604, 0.4621, 0.5072, 0.4695,\n",
       "        0.4856, 0.5202, 0.4697, 0.5246, 0.5328, 0.4836, 0.5024, 0.5003, 0.4855,\n",
       "        0.4457, 0.5143, 0.4881, 0.5195, 0.5106, 0.5479, 0.5101, 0.5303, 0.4751,\n",
       "        0.5044, 0.4827, 0.4556, 0.4720, 0.4833, 0.5275, 0.5193, 0.4631, 0.4812,\n",
       "        0.4879, 0.5027, 0.5291, 0.4629, 0.5251, 0.5495, 0.5053, 0.5138, 0.5051,\n",
       "        0.5198, 0.5021, 0.4437, 0.4921, 0.4606, 0.4556, 0.4755, 0.4697, 0.4516,\n",
       "        0.4997, 0.4639, 0.5427, 0.4709, 0.5072, 0.4323, 0.4948, 0.4279, 0.4779,\n",
       "        0.5066, 0.5142, 0.5513, 0.4914, 0.4952, 0.4898, 0.4676, 0.4767, 0.4918,\n",
       "        0.5050, 0.5005, 0.4603, 0.5172, 0.4656, 0.4870, 0.5459, 0.4798, 0.4759,\n",
       "        0.4859, 0.4606, 0.4934, 0.5114, 0.4863, 0.4976, 0.5285, 0.4968, 0.5188,\n",
       "        0.4932, 0.5450, 0.5438, 0.4813, 0.4503, 0.5057, 0.4933, 0.5023, 0.4933,\n",
       "        0.4861, 0.4904, 0.4744, 0.4951, 0.4845, 0.4677, 0.4857, 0.5121, 0.4630,\n",
       "        0.4979, 0.5105, 0.4943, 0.4710, 0.4908, 0.4807, 0.4984, 0.4743, 0.5533,\n",
       "        0.5502, 0.4359, 0.5065, 0.4729, 0.5028, 0.5109, 0.4883, 0.5269, 0.5026,\n",
       "        0.4860, 0.4526, 0.5339, 0.4945, 0.5171, 0.4930, 0.4887, 0.4664, 0.5254,\n",
       "        0.5549, 0.4760, 0.5010, 0.4771, 0.5369, 0.4778, 0.4764, 0.4834, 0.4706,\n",
       "        0.4737, 0.4625, 0.5208, 0.4851, 0.4859, 0.5241, 0.4602, 0.4801, 0.4844,\n",
       "        0.4730, 0.4816, 0.4678, 0.5328, 0.4992, 0.5194, 0.4895, 0.5087, 0.4976,\n",
       "        0.4848, 0.4888, 0.5408, 0.4480, 0.5358, 0.4534, 0.4542, 0.4700, 0.4781,\n",
       "        0.4877, 0.4915, 0.4888, 0.5182, 0.5205, 0.4640, 0.5196, 0.5268, 0.4823,\n",
       "        0.4674, 0.4923, 0.4855, 0.5047, 0.4638, 0.4487, 0.4940, 0.4425, 0.5065,\n",
       "        0.5259], device='cuda:0')"
      ]
     },
     "execution_count": 11,
     "metadata": {},
     "output_type": "execute_result"
    }
   ],
   "source": [
    "node_feature_mask"
   ]
  },
  {
   "cell_type": "code",
   "execution_count": 12,
   "id": "84cf3a25",
   "metadata": {},
   "outputs": [],
   "source": [
    "edge_mask_cpu = edge_mask.to('cpu')\n",
    "edge_index_cpu = edge_index.to('cpu')"
   ]
  },
  {
   "cell_type": "code",
   "execution_count": 13,
   "id": "f57a086d",
   "metadata": {},
   "outputs": [
    {
     "data": {
      "image/png": "[encoded data removed]",
      "text/plain": [
       "<Figure size 432x288 with 1 Axes>"
      ]
     },
     "metadata": {},
     "output_type": "display_data"
    }
   ],
   "source": [
    "ax, G = explainer.visualize_subgraph(node_idx=None, edge_index=edge_index_cpu, edge_mask=edge_mask_cpu)\n",
    "plt.show()"
   ]
  },
  {
   "cell_type": "code",
   "execution_count": 14,
   "id": "cd5155e0",
   "metadata": {},
   "outputs": [
    {
     "data": {
      "text/plain": [
       "AtlasView({1: {'att': 0.4866805076599121, 'edge_color': 'black'}, 5: {'att': 0.5363545417785645, 'edge_color': 'black'}})"
      ]
     },
     "execution_count": 14,
     "metadata": {},
     "output_type": "execute_result"
    }
   ],
   "source": [
    "G[0]"
   ]
  },
  {
   "cell_type": "code",
   "execution_count": 19,
   "id": "591f7648",
   "metadata": {},
   "outputs": [
    {
     "data": {
      "text/plain": [
       "{'att': 0.5377554893493652, 'edge_color': 'black'}"
      ]
     },
     "execution_count": 19,
     "metadata": {},
     "output_type": "execute_result"
    }
   ],
   "source": [
    "G[5][0]"
   ]
  },
  {
   "cell_type": "code",
   "execution_count": 15,
   "id": "1a9636ba",
   "metadata": {},
   "outputs": [
    {
     "ename": "TypeError",
     "evalue": "get_initial_prediction() got multiple values for keyword argument 'batch'",
     "output_type": "error",
     "traceback": [
      "\u001b[0;31m---------------------------------------------------------------------------\u001b[0m",
      "\u001b[0;31mTypeError\u001b[0m                                 Traceback (most recent call last)",
      "Input \u001b[0;32mIn [15]\u001b[0m, in \u001b[0;36m<cell line: 3>\u001b[0;34m()\u001b[0m\n\u001b[1;32m      8\u001b[0m edge_features \u001b[38;5;241m=\u001b[39m data\u001b[38;5;241m.\u001b[39medge_features\n\u001b[1;32m      9\u001b[0m target \u001b[38;5;241m=\u001b[39m data\u001b[38;5;241m.\u001b[39mtarget\n\u001b[0;32m---> 11\u001b[0m node_feature_mask, edge_mask \u001b[38;5;241m=\u001b[39m \u001b[43mexplainer\u001b[49m\u001b[38;5;241;43m.\u001b[39;49m\u001b[43mexplain_graph\u001b[49m\u001b[43m(\u001b[49m\u001b[43mx\u001b[49m\u001b[43m,\u001b[49m\u001b[43m \u001b[49m\u001b[43medge_index\u001b[49m\u001b[43m,\u001b[49m\u001b[43m \u001b[49m\u001b[43mbatch\u001b[49m\u001b[38;5;241;43m=\u001b[39;49m\u001b[43mbatch\u001b[49m\u001b[43m,\u001b[49m\u001b[43m \u001b[49m\u001b[43medge_feat\u001b[49m\u001b[43m \u001b[49m\u001b[38;5;241;43m=\u001b[39;49m\u001b[43m \u001b[49m\u001b[43medge_features\u001b[49m\u001b[43m)\u001b[49m\n\u001b[1;32m     12\u001b[0m ax, G \u001b[38;5;241m=\u001b[39m explainer\u001b[38;5;241m.\u001b[39mvisualize_subgraph(edge_index, edge_mask, y\u001b[38;5;241m=\u001b[39my)\n",
      "File \u001b[0;32m/data/conghao001/anaconda3/envs/gnndrug/lib/python3.8/site-packages/torch_geometric/nn/models/gnn_explainer.py:143\u001b[0m, in \u001b[0;36mGNNExplainer.explain_graph\u001b[0;34m(self, x, edge_index, **kwargs)\u001b[0m\n\u001b[1;32m    140\u001b[0m batch \u001b[38;5;241m=\u001b[39m torch\u001b[38;5;241m.\u001b[39mzeros(x\u001b[38;5;241m.\u001b[39mshape[\u001b[38;5;241m0\u001b[39m], dtype\u001b[38;5;241m=\u001b[39m\u001b[38;5;28mint\u001b[39m, device\u001b[38;5;241m=\u001b[39mx\u001b[38;5;241m.\u001b[39mdevice)\n\u001b[1;32m    142\u001b[0m \u001b[38;5;66;03m# Get the initial prediction.\u001b[39;00m\n\u001b[0;32m--> 143\u001b[0m prediction \u001b[38;5;241m=\u001b[39m \u001b[38;5;28mself\u001b[39m\u001b[38;5;241m.\u001b[39mget_initial_prediction(x, edge_index, batch\u001b[38;5;241m=\u001b[39mbatch,\n\u001b[1;32m    144\u001b[0m                                          \u001b[38;5;241m*\u001b[39m\u001b[38;5;241m*\u001b[39mkwargs)\n\u001b[1;32m    146\u001b[0m \u001b[38;5;28mself\u001b[39m\u001b[38;5;241m.\u001b[39m_initialize_masks(x, edge_index)\n\u001b[1;32m    147\u001b[0m \u001b[38;5;28mself\u001b[39m\u001b[38;5;241m.\u001b[39mto(x\u001b[38;5;241m.\u001b[39mdevice)\n",
      "\u001b[0;31mTypeError\u001b[0m: get_initial_prediction() got multiple values for keyword argument 'batch'"
     ]
    }
   ],
   "source": [
    "explainer = GNNExplainer(model, lr=1e-4, epochs=300)\n",
    "\n",
    "for data in test_loader:\n",
    "    x = data.x\n",
    "    edge_index = data.edge_index\n",
    "    y = data.y\n",
    "    batch = data.batch\n",
    "    edge_features = data.edge_features\n",
    "    target = data.target\n",
    "    \n",
    "    node_feature_mask, edge_mask = explainer.explain_graph(x, edge_index, batch=batch, edge_feat = edge_features)\n",
    "    ax, G = explainer.visualize_subgraph(edge_index, edge_mask, y=y)"
   ]
  },
  {
   "cell_type": "code",
   "execution_count": null,
   "id": "0656cd4f",
   "metadata": {},
   "outputs": [],
   "source": []
  }
 ],
 "metadata": {
  "kernelspec": {
   "display_name": "gnn drug",
   "language": "python",
   "name": "gnndrug"
  },
  "language_info": {
   "codemirror_mode": {
    "name": "ipython",
    "version": 3
   },
   "file_extension": ".py",
   "mimetype": "text/x-python",
   "name": "python",
   "nbconvert_exporter": "python",
   "pygments_lexer": "ipython3",
   "version": "3.8.13"
  }
 },
 "nbformat": 4,
 "nbformat_minor": 5
}
